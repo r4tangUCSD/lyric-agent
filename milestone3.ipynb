{
  "metadata": {
    "kernelspec": {
      "name": "python3",
      "display_name": "Python 3",
      "language": "python"
    },
    "language_info": {
      "name": "python",
      "version": "3.10.12",
      "mimetype": "text/x-python",
      "codemirror_mode": {
        "name": "ipython",
        "version": 3
      },
      "pygments_lexer": "ipython3",
      "nbconvert_exporter": "python",
      "file_extension": ".py"
    },
    "kaggle": {
      "accelerator": "none",
      "dataSources": [],
      "dockerImageVersionId": 30918,
      "isInternetEnabled": true,
      "language": "python",
      "sourceType": "notebook",
      "isGpuEnabled": false
    },
    "colab": {
      "provenance": [],
      "gpuType": "T4"
    },
    "widgets": {
      "application/vnd.jupyter.widget-state+json": {
        "80584f93181c4f41854a5b7bf9d3293e": {
          "model_module": "@jupyter-widgets/controls",
          "model_name": "HBoxModel",
          "model_module_version": "1.5.0",
          "state": {
            "_dom_classes": [],
            "_model_module": "@jupyter-widgets/controls",
            "_model_module_version": "1.5.0",
            "_model_name": "HBoxModel",
            "_view_count": null,
            "_view_module": "@jupyter-widgets/controls",
            "_view_module_version": "1.5.0",
            "_view_name": "HBoxView",
            "box_style": "",
            "children": [
              "IPY_MODEL_fcfd75b47a534483bbb5c10333bb033d",
              "IPY_MODEL_d101768e0ba948629e14c1388531e258",
              "IPY_MODEL_f7c589264b784ebfb54a56aebfb816eb"
            ],
            "layout": "IPY_MODEL_9583b5254e2345fb920c45497661d89c"
          }
        },
        "fcfd75b47a534483bbb5c10333bb033d": {
          "model_module": "@jupyter-widgets/controls",
          "model_name": "HTMLModel",
          "model_module_version": "1.5.0",
          "state": {
            "_dom_classes": [],
            "_model_module": "@jupyter-widgets/controls",
            "_model_module_version": "1.5.0",
            "_model_name": "HTMLModel",
            "_view_count": null,
            "_view_module": "@jupyter-widgets/controls",
            "_view_module_version": "1.5.0",
            "_view_name": "HTMLView",
            "description": "",
            "description_tooltip": null,
            "layout": "IPY_MODEL_77533297457b497ebd63bad695cb508c",
            "placeholder": "​",
            "style": "IPY_MODEL_b571b30c82fb4d5fb9818c4d31314d83",
            "value": "song_lyrics%202.csv: 100%"
          }
        },
        "d101768e0ba948629e14c1388531e258": {
          "model_module": "@jupyter-widgets/controls",
          "model_name": "FloatProgressModel",
          "model_module_version": "1.5.0",
          "state": {
            "_dom_classes": [],
            "_model_module": "@jupyter-widgets/controls",
            "_model_module_version": "1.5.0",
            "_model_name": "FloatProgressModel",
            "_view_count": null,
            "_view_module": "@jupyter-widgets/controls",
            "_view_module_version": "1.5.0",
            "_view_name": "ProgressView",
            "bar_style": "success",
            "description": "",
            "description_tooltip": null,
            "layout": "IPY_MODEL_38a9edc90cee4e8cafbf7256441dccf7",
            "max": 9070394868,
            "min": 0,
            "orientation": "horizontal",
            "style": "IPY_MODEL_d0b28d2fc25a4c909d56bb01e80a3e86",
            "value": 9070394868
          }
        },
        "f7c589264b784ebfb54a56aebfb816eb": {
          "model_module": "@jupyter-widgets/controls",
          "model_name": "HTMLModel",
          "model_module_version": "1.5.0",
          "state": {
            "_dom_classes": [],
            "_model_module": "@jupyter-widgets/controls",
            "_model_module_version": "1.5.0",
            "_model_name": "HTMLModel",
            "_view_count": null,
            "_view_module": "@jupyter-widgets/controls",
            "_view_module_version": "1.5.0",
            "_view_name": "HTMLView",
            "description": "",
            "description_tooltip": null,
            "layout": "IPY_MODEL_2683bdb46f734b1ea2a831cc557a8117",
            "placeholder": "​",
            "style": "IPY_MODEL_a72e80c970f74261be8f706a89d59e9e",
            "value": " 9.07G/9.07G [01:08&lt;00:00, 81.9MB/s]"
          }
        },
        "9583b5254e2345fb920c45497661d89c": {
          "model_module": "@jupyter-widgets/base",
          "model_name": "LayoutModel",
          "model_module_version": "1.2.0",
          "state": {
            "_model_module": "@jupyter-widgets/base",
            "_model_module_version": "1.2.0",
            "_model_name": "LayoutModel",
            "_view_count": null,
            "_view_module": "@jupyter-widgets/base",
            "_view_module_version": "1.2.0",
            "_view_name": "LayoutView",
            "align_content": null,
            "align_items": null,
            "align_self": null,
            "border": null,
            "bottom": null,
            "display": null,
            "flex": null,
            "flex_flow": null,
            "grid_area": null,
            "grid_auto_columns": null,
            "grid_auto_flow": null,
            "grid_auto_rows": null,
            "grid_column": null,
            "grid_gap": null,
            "grid_row": null,
            "grid_template_areas": null,
            "grid_template_columns": null,
            "grid_template_rows": null,
            "height": null,
            "justify_content": null,
            "justify_items": null,
            "left": null,
            "margin": null,
            "max_height": null,
            "max_width": null,
            "min_height": null,
            "min_width": null,
            "object_fit": null,
            "object_position": null,
            "order": null,
            "overflow": null,
            "overflow_x": null,
            "overflow_y": null,
            "padding": null,
            "right": null,
            "top": null,
            "visibility": null,
            "width": null
          }
        },
        "77533297457b497ebd63bad695cb508c": {
          "model_module": "@jupyter-widgets/base",
          "model_name": "LayoutModel",
          "model_module_version": "1.2.0",
          "state": {
            "_model_module": "@jupyter-widgets/base",
            "_model_module_version": "1.2.0",
            "_model_name": "LayoutModel",
            "_view_count": null,
            "_view_module": "@jupyter-widgets/base",
            "_view_module_version": "1.2.0",
            "_view_name": "LayoutView",
            "align_content": null,
            "align_items": null,
            "align_self": null,
            "border": null,
            "bottom": null,
            "display": null,
            "flex": null,
            "flex_flow": null,
            "grid_area": null,
            "grid_auto_columns": null,
            "grid_auto_flow": null,
            "grid_auto_rows": null,
            "grid_column": null,
            "grid_gap": null,
            "grid_row": null,
            "grid_template_areas": null,
            "grid_template_columns": null,
            "grid_template_rows": null,
            "height": null,
            "justify_content": null,
            "justify_items": null,
            "left": null,
            "margin": null,
            "max_height": null,
            "max_width": null,
            "min_height": null,
            "min_width": null,
            "object_fit": null,
            "object_position": null,
            "order": null,
            "overflow": null,
            "overflow_x": null,
            "overflow_y": null,
            "padding": null,
            "right": null,
            "top": null,
            "visibility": null,
            "width": null
          }
        },
        "b571b30c82fb4d5fb9818c4d31314d83": {
          "model_module": "@jupyter-widgets/controls",
          "model_name": "DescriptionStyleModel",
          "model_module_version": "1.5.0",
          "state": {
            "_model_module": "@jupyter-widgets/controls",
            "_model_module_version": "1.5.0",
            "_model_name": "DescriptionStyleModel",
            "_view_count": null,
            "_view_module": "@jupyter-widgets/base",
            "_view_module_version": "1.2.0",
            "_view_name": "StyleView",
            "description_width": ""
          }
        },
        "38a9edc90cee4e8cafbf7256441dccf7": {
          "model_module": "@jupyter-widgets/base",
          "model_name": "LayoutModel",
          "model_module_version": "1.2.0",
          "state": {
            "_model_module": "@jupyter-widgets/base",
            "_model_module_version": "1.2.0",
            "_model_name": "LayoutModel",
            "_view_count": null,
            "_view_module": "@jupyter-widgets/base",
            "_view_module_version": "1.2.0",
            "_view_name": "LayoutView",
            "align_content": null,
            "align_items": null,
            "align_self": null,
            "border": null,
            "bottom": null,
            "display": null,
            "flex": null,
            "flex_flow": null,
            "grid_area": null,
            "grid_auto_columns": null,
            "grid_auto_flow": null,
            "grid_auto_rows": null,
            "grid_column": null,
            "grid_gap": null,
            "grid_row": null,
            "grid_template_areas": null,
            "grid_template_columns": null,
            "grid_template_rows": null,
            "height": null,
            "justify_content": null,
            "justify_items": null,
            "left": null,
            "margin": null,
            "max_height": null,
            "max_width": null,
            "min_height": null,
            "min_width": null,
            "object_fit": null,
            "object_position": null,
            "order": null,
            "overflow": null,
            "overflow_x": null,
            "overflow_y": null,
            "padding": null,
            "right": null,
            "top": null,
            "visibility": null,
            "width": null
          }
        },
        "d0b28d2fc25a4c909d56bb01e80a3e86": {
          "model_module": "@jupyter-widgets/controls",
          "model_name": "ProgressStyleModel",
          "model_module_version": "1.5.0",
          "state": {
            "_model_module": "@jupyter-widgets/controls",
            "_model_module_version": "1.5.0",
            "_model_name": "ProgressStyleModel",
            "_view_count": null,
            "_view_module": "@jupyter-widgets/base",
            "_view_module_version": "1.2.0",
            "_view_name": "StyleView",
            "bar_color": null,
            "description_width": ""
          }
        },
        "2683bdb46f734b1ea2a831cc557a8117": {
          "model_module": "@jupyter-widgets/base",
          "model_name": "LayoutModel",
          "model_module_version": "1.2.0",
          "state": {
            "_model_module": "@jupyter-widgets/base",
            "_model_module_version": "1.2.0",
            "_model_name": "LayoutModel",
            "_view_count": null,
            "_view_module": "@jupyter-widgets/base",
            "_view_module_version": "1.2.0",
            "_view_name": "LayoutView",
            "align_content": null,
            "align_items": null,
            "align_self": null,
            "border": null,
            "bottom": null,
            "display": null,
            "flex": null,
            "flex_flow": null,
            "grid_area": null,
            "grid_auto_columns": null,
            "grid_auto_flow": null,
            "grid_auto_rows": null,
            "grid_column": null,
            "grid_gap": null,
            "grid_row": null,
            "grid_template_areas": null,
            "grid_template_columns": null,
            "grid_template_rows": null,
            "height": null,
            "justify_content": null,
            "justify_items": null,
            "left": null,
            "margin": null,
            "max_height": null,
            "max_width": null,
            "min_height": null,
            "min_width": null,
            "object_fit": null,
            "object_position": null,
            "order": null,
            "overflow": null,
            "overflow_x": null,
            "overflow_y": null,
            "padding": null,
            "right": null,
            "top": null,
            "visibility": null,
            "width": null
          }
        },
        "a72e80c970f74261be8f706a89d59e9e": {
          "model_module": "@jupyter-widgets/controls",
          "model_name": "DescriptionStyleModel",
          "model_module_version": "1.5.0",
          "state": {
            "_model_module": "@jupyter-widgets/controls",
            "_model_module_version": "1.5.0",
            "_model_name": "DescriptionStyleModel",
            "_view_count": null,
            "_view_module": "@jupyter-widgets/base",
            "_view_module_version": "1.2.0",
            "_view_name": "StyleView",
            "description_width": ""
          }
        },
        "caf40f1fdc564543b896b9020dfbeb24": {
          "model_module": "@jupyter-widgets/controls",
          "model_name": "HBoxModel",
          "model_module_version": "1.5.0",
          "state": {
            "_dom_classes": [],
            "_model_module": "@jupyter-widgets/controls",
            "_model_module_version": "1.5.0",
            "_model_name": "HBoxModel",
            "_view_count": null,
            "_view_module": "@jupyter-widgets/controls",
            "_view_module_version": "1.5.0",
            "_view_name": "HBoxView",
            "box_style": "",
            "children": [
              "IPY_MODEL_002fe03944b347788f795f90729c57bd",
              "IPY_MODEL_4c75b057d1f44712b461753244e165c8",
              "IPY_MODEL_712d1fbb703b4f32bd4dfbc7f339cc7f"
            ],
            "layout": "IPY_MODEL_de2fbe45a8854986987bf13753df4b3c"
          }
        },
        "002fe03944b347788f795f90729c57bd": {
          "model_module": "@jupyter-widgets/controls",
          "model_name": "HTMLModel",
          "model_module_version": "1.5.0",
          "state": {
            "_dom_classes": [],
            "_model_module": "@jupyter-widgets/controls",
            "_model_module_version": "1.5.0",
            "_model_name": "HTMLModel",
            "_view_count": null,
            "_view_module": "@jupyter-widgets/controls",
            "_view_module_version": "1.5.0",
            "_view_name": "HTMLView",
            "description": "",
            "description_tooltip": null,
            "layout": "IPY_MODEL_d5dffec4f4c74998b3bc22f8c2b33228",
            "placeholder": "​",
            "style": "IPY_MODEL_bc9f24e988544341afabdb8df8d34e92",
            "value": "Generating train split: "
          }
        },
        "4c75b057d1f44712b461753244e165c8": {
          "model_module": "@jupyter-widgets/controls",
          "model_name": "FloatProgressModel",
          "model_module_version": "1.5.0",
          "state": {
            "_dom_classes": [],
            "_model_module": "@jupyter-widgets/controls",
            "_model_module_version": "1.5.0",
            "_model_name": "FloatProgressModel",
            "_view_count": null,
            "_view_module": "@jupyter-widgets/controls",
            "_view_module_version": "1.5.0",
            "_view_name": "ProgressView",
            "bar_style": "success",
            "description": "",
            "description_tooltip": null,
            "layout": "IPY_MODEL_89ca932aa28d465b9b5565868725180e",
            "max": 1,
            "min": 0,
            "orientation": "horizontal",
            "style": "IPY_MODEL_8e2ab08f34024490b2e481e4532c5219",
            "value": 1
          }
        },
        "712d1fbb703b4f32bd4dfbc7f339cc7f": {
          "model_module": "@jupyter-widgets/controls",
          "model_name": "HTMLModel",
          "model_module_version": "1.5.0",
          "state": {
            "_dom_classes": [],
            "_model_module": "@jupyter-widgets/controls",
            "_model_module_version": "1.5.0",
            "_model_name": "HTMLModel",
            "_view_count": null,
            "_view_module": "@jupyter-widgets/controls",
            "_view_module_version": "1.5.0",
            "_view_name": "HTMLView",
            "description": "",
            "description_tooltip": null,
            "layout": "IPY_MODEL_0bcb66d501dc4318a2a780e3745fa256",
            "placeholder": "​",
            "style": "IPY_MODEL_8ae3844fb7974b7997fa79dabd169c8e",
            "value": " 5134856/0 [03:51&lt;00:00, 21173.45 examples/s]"
          }
        },
        "de2fbe45a8854986987bf13753df4b3c": {
          "model_module": "@jupyter-widgets/base",
          "model_name": "LayoutModel",
          "model_module_version": "1.2.0",
          "state": {
            "_model_module": "@jupyter-widgets/base",
            "_model_module_version": "1.2.0",
            "_model_name": "LayoutModel",
            "_view_count": null,
            "_view_module": "@jupyter-widgets/base",
            "_view_module_version": "1.2.0",
            "_view_name": "LayoutView",
            "align_content": null,
            "align_items": null,
            "align_self": null,
            "border": null,
            "bottom": null,
            "display": null,
            "flex": null,
            "flex_flow": null,
            "grid_area": null,
            "grid_auto_columns": null,
            "grid_auto_flow": null,
            "grid_auto_rows": null,
            "grid_column": null,
            "grid_gap": null,
            "grid_row": null,
            "grid_template_areas": null,
            "grid_template_columns": null,
            "grid_template_rows": null,
            "height": null,
            "justify_content": null,
            "justify_items": null,
            "left": null,
            "margin": null,
            "max_height": null,
            "max_width": null,
            "min_height": null,
            "min_width": null,
            "object_fit": null,
            "object_position": null,
            "order": null,
            "overflow": null,
            "overflow_x": null,
            "overflow_y": null,
            "padding": null,
            "right": null,
            "top": null,
            "visibility": null,
            "width": null
          }
        },
        "d5dffec4f4c74998b3bc22f8c2b33228": {
          "model_module": "@jupyter-widgets/base",
          "model_name": "LayoutModel",
          "model_module_version": "1.2.0",
          "state": {
            "_model_module": "@jupyter-widgets/base",
            "_model_module_version": "1.2.0",
            "_model_name": "LayoutModel",
            "_view_count": null,
            "_view_module": "@jupyter-widgets/base",
            "_view_module_version": "1.2.0",
            "_view_name": "LayoutView",
            "align_content": null,
            "align_items": null,
            "align_self": null,
            "border": null,
            "bottom": null,
            "display": null,
            "flex": null,
            "flex_flow": null,
            "grid_area": null,
            "grid_auto_columns": null,
            "grid_auto_flow": null,
            "grid_auto_rows": null,
            "grid_column": null,
            "grid_gap": null,
            "grid_row": null,
            "grid_template_areas": null,
            "grid_template_columns": null,
            "grid_template_rows": null,
            "height": null,
            "justify_content": null,
            "justify_items": null,
            "left": null,
            "margin": null,
            "max_height": null,
            "max_width": null,
            "min_height": null,
            "min_width": null,
            "object_fit": null,
            "object_position": null,
            "order": null,
            "overflow": null,
            "overflow_x": null,
            "overflow_y": null,
            "padding": null,
            "right": null,
            "top": null,
            "visibility": null,
            "width": null
          }
        },
        "bc9f24e988544341afabdb8df8d34e92": {
          "model_module": "@jupyter-widgets/controls",
          "model_name": "DescriptionStyleModel",
          "model_module_version": "1.5.0",
          "state": {
            "_model_module": "@jupyter-widgets/controls",
            "_model_module_version": "1.5.0",
            "_model_name": "DescriptionStyleModel",
            "_view_count": null,
            "_view_module": "@jupyter-widgets/base",
            "_view_module_version": "1.2.0",
            "_view_name": "StyleView",
            "description_width": ""
          }
        },
        "89ca932aa28d465b9b5565868725180e": {
          "model_module": "@jupyter-widgets/base",
          "model_name": "LayoutModel",
          "model_module_version": "1.2.0",
          "state": {
            "_model_module": "@jupyter-widgets/base",
            "_model_module_version": "1.2.0",
            "_model_name": "LayoutModel",
            "_view_count": null,
            "_view_module": "@jupyter-widgets/base",
            "_view_module_version": "1.2.0",
            "_view_name": "LayoutView",
            "align_content": null,
            "align_items": null,
            "align_self": null,
            "border": null,
            "bottom": null,
            "display": null,
            "flex": null,
            "flex_flow": null,
            "grid_area": null,
            "grid_auto_columns": null,
            "grid_auto_flow": null,
            "grid_auto_rows": null,
            "grid_column": null,
            "grid_gap": null,
            "grid_row": null,
            "grid_template_areas": null,
            "grid_template_columns": null,
            "grid_template_rows": null,
            "height": null,
            "justify_content": null,
            "justify_items": null,
            "left": null,
            "margin": null,
            "max_height": null,
            "max_width": null,
            "min_height": null,
            "min_width": null,
            "object_fit": null,
            "object_position": null,
            "order": null,
            "overflow": null,
            "overflow_x": null,
            "overflow_y": null,
            "padding": null,
            "right": null,
            "top": null,
            "visibility": null,
            "width": "20px"
          }
        },
        "8e2ab08f34024490b2e481e4532c5219": {
          "model_module": "@jupyter-widgets/controls",
          "model_name": "ProgressStyleModel",
          "model_module_version": "1.5.0",
          "state": {
            "_model_module": "@jupyter-widgets/controls",
            "_model_module_version": "1.5.0",
            "_model_name": "ProgressStyleModel",
            "_view_count": null,
            "_view_module": "@jupyter-widgets/base",
            "_view_module_version": "1.2.0",
            "_view_name": "StyleView",
            "bar_color": null,
            "description_width": ""
          }
        },
        "0bcb66d501dc4318a2a780e3745fa256": {
          "model_module": "@jupyter-widgets/base",
          "model_name": "LayoutModel",
          "model_module_version": "1.2.0",
          "state": {
            "_model_module": "@jupyter-widgets/base",
            "_model_module_version": "1.2.0",
            "_model_name": "LayoutModel",
            "_view_count": null,
            "_view_module": "@jupyter-widgets/base",
            "_view_module_version": "1.2.0",
            "_view_name": "LayoutView",
            "align_content": null,
            "align_items": null,
            "align_self": null,
            "border": null,
            "bottom": null,
            "display": null,
            "flex": null,
            "flex_flow": null,
            "grid_area": null,
            "grid_auto_columns": null,
            "grid_auto_flow": null,
            "grid_auto_rows": null,
            "grid_column": null,
            "grid_gap": null,
            "grid_row": null,
            "grid_template_areas": null,
            "grid_template_columns": null,
            "grid_template_rows": null,
            "height": null,
            "justify_content": null,
            "justify_items": null,
            "left": null,
            "margin": null,
            "max_height": null,
            "max_width": null,
            "min_height": null,
            "min_width": null,
            "object_fit": null,
            "object_position": null,
            "order": null,
            "overflow": null,
            "overflow_x": null,
            "overflow_y": null,
            "padding": null,
            "right": null,
            "top": null,
            "visibility": null,
            "width": null
          }
        },
        "8ae3844fb7974b7997fa79dabd169c8e": {
          "model_module": "@jupyter-widgets/controls",
          "model_name": "DescriptionStyleModel",
          "model_module_version": "1.5.0",
          "state": {
            "_model_module": "@jupyter-widgets/controls",
            "_model_module_version": "1.5.0",
            "_model_name": "DescriptionStyleModel",
            "_view_count": null,
            "_view_module": "@jupyter-widgets/base",
            "_view_module_version": "1.2.0",
            "_view_name": "StyleView",
            "description_width": ""
          }
        },
        "3b07922ffc6943b393ba9535c2c639f5": {
          "model_module": "@jupyter-widgets/controls",
          "model_name": "HBoxModel",
          "model_module_version": "1.5.0",
          "state": {
            "_dom_classes": [],
            "_model_module": "@jupyter-widgets/controls",
            "_model_module_version": "1.5.0",
            "_model_name": "HBoxModel",
            "_view_count": null,
            "_view_module": "@jupyter-widgets/controls",
            "_view_module_version": "1.5.0",
            "_view_name": "HBoxView",
            "box_style": "",
            "children": [
              "IPY_MODEL_1414a252521c478495046e3d40883c83",
              "IPY_MODEL_6a752dee65734633bcaedbe6cef2f7c5",
              "IPY_MODEL_669cb53fb22946259ec0dbeee910d1fa"
            ],
            "layout": "IPY_MODEL_a070ae810a3540228057247bafcc4314"
          }
        },
        "1414a252521c478495046e3d40883c83": {
          "model_module": "@jupyter-widgets/controls",
          "model_name": "HTMLModel",
          "model_module_version": "1.5.0",
          "state": {
            "_dom_classes": [],
            "_model_module": "@jupyter-widgets/controls",
            "_model_module_version": "1.5.0",
            "_model_name": "HTMLModel",
            "_view_count": null,
            "_view_module": "@jupyter-widgets/controls",
            "_view_module_version": "1.5.0",
            "_view_name": "HTMLView",
            "description": "",
            "description_tooltip": null,
            "layout": "IPY_MODEL_40e3de8ad4f64b218737f659107b74b0",
            "placeholder": "​",
            "style": "IPY_MODEL_c0164ed274a04cd6912073819ea93deb",
            "value": "Loading dataset shards: 100%"
          }
        },
        "6a752dee65734633bcaedbe6cef2f7c5": {
          "model_module": "@jupyter-widgets/controls",
          "model_name": "FloatProgressModel",
          "model_module_version": "1.5.0",
          "state": {
            "_dom_classes": [],
            "_model_module": "@jupyter-widgets/controls",
            "_model_module_version": "1.5.0",
            "_model_name": "FloatProgressModel",
            "_view_count": null,
            "_view_module": "@jupyter-widgets/controls",
            "_view_module_version": "1.5.0",
            "_view_name": "ProgressView",
            "bar_style": "success",
            "description": "",
            "description_tooltip": null,
            "layout": "IPY_MODEL_764cc7047de549b18cdbfc1ab65b11d7",
            "max": 19,
            "min": 0,
            "orientation": "horizontal",
            "style": "IPY_MODEL_30ecc6faa8534e3aba5766c66889791e",
            "value": 19
          }
        },
        "669cb53fb22946259ec0dbeee910d1fa": {
          "model_module": "@jupyter-widgets/controls",
          "model_name": "HTMLModel",
          "model_module_version": "1.5.0",
          "state": {
            "_dom_classes": [],
            "_model_module": "@jupyter-widgets/controls",
            "_model_module_version": "1.5.0",
            "_model_name": "HTMLModel",
            "_view_count": null,
            "_view_module": "@jupyter-widgets/controls",
            "_view_module_version": "1.5.0",
            "_view_name": "HTMLView",
            "description": "",
            "description_tooltip": null,
            "layout": "IPY_MODEL_e5c840e6feba4945b0d9095768990ae9",
            "placeholder": "​",
            "style": "IPY_MODEL_3b33d38e2972441eae88b3adfaef42a1",
            "value": " 19/19 [00:45&lt;00:00,  1.57s/it]"
          }
        },
        "a070ae810a3540228057247bafcc4314": {
          "model_module": "@jupyter-widgets/base",
          "model_name": "LayoutModel",
          "model_module_version": "1.2.0",
          "state": {
            "_model_module": "@jupyter-widgets/base",
            "_model_module_version": "1.2.0",
            "_model_name": "LayoutModel",
            "_view_count": null,
            "_view_module": "@jupyter-widgets/base",
            "_view_module_version": "1.2.0",
            "_view_name": "LayoutView",
            "align_content": null,
            "align_items": null,
            "align_self": null,
            "border": null,
            "bottom": null,
            "display": null,
            "flex": null,
            "flex_flow": null,
            "grid_area": null,
            "grid_auto_columns": null,
            "grid_auto_flow": null,
            "grid_auto_rows": null,
            "grid_column": null,
            "grid_gap": null,
            "grid_row": null,
            "grid_template_areas": null,
            "grid_template_columns": null,
            "grid_template_rows": null,
            "height": null,
            "justify_content": null,
            "justify_items": null,
            "left": null,
            "margin": null,
            "max_height": null,
            "max_width": null,
            "min_height": null,
            "min_width": null,
            "object_fit": null,
            "object_position": null,
            "order": null,
            "overflow": null,
            "overflow_x": null,
            "overflow_y": null,
            "padding": null,
            "right": null,
            "top": null,
            "visibility": null,
            "width": null
          }
        },
        "40e3de8ad4f64b218737f659107b74b0": {
          "model_module": "@jupyter-widgets/base",
          "model_name": "LayoutModel",
          "model_module_version": "1.2.0",
          "state": {
            "_model_module": "@jupyter-widgets/base",
            "_model_module_version": "1.2.0",
            "_model_name": "LayoutModel",
            "_view_count": null,
            "_view_module": "@jupyter-widgets/base",
            "_view_module_version": "1.2.0",
            "_view_name": "LayoutView",
            "align_content": null,
            "align_items": null,
            "align_self": null,
            "border": null,
            "bottom": null,
            "display": null,
            "flex": null,
            "flex_flow": null,
            "grid_area": null,
            "grid_auto_columns": null,
            "grid_auto_flow": null,
            "grid_auto_rows": null,
            "grid_column": null,
            "grid_gap": null,
            "grid_row": null,
            "grid_template_areas": null,
            "grid_template_columns": null,
            "grid_template_rows": null,
            "height": null,
            "justify_content": null,
            "justify_items": null,
            "left": null,
            "margin": null,
            "max_height": null,
            "max_width": null,
            "min_height": null,
            "min_width": null,
            "object_fit": null,
            "object_position": null,
            "order": null,
            "overflow": null,
            "overflow_x": null,
            "overflow_y": null,
            "padding": null,
            "right": null,
            "top": null,
            "visibility": null,
            "width": null
          }
        },
        "c0164ed274a04cd6912073819ea93deb": {
          "model_module": "@jupyter-widgets/controls",
          "model_name": "DescriptionStyleModel",
          "model_module_version": "1.5.0",
          "state": {
            "_model_module": "@jupyter-widgets/controls",
            "_model_module_version": "1.5.0",
            "_model_name": "DescriptionStyleModel",
            "_view_count": null,
            "_view_module": "@jupyter-widgets/base",
            "_view_module_version": "1.2.0",
            "_view_name": "StyleView",
            "description_width": ""
          }
        },
        "764cc7047de549b18cdbfc1ab65b11d7": {
          "model_module": "@jupyter-widgets/base",
          "model_name": "LayoutModel",
          "model_module_version": "1.2.0",
          "state": {
            "_model_module": "@jupyter-widgets/base",
            "_model_module_version": "1.2.0",
            "_model_name": "LayoutModel",
            "_view_count": null,
            "_view_module": "@jupyter-widgets/base",
            "_view_module_version": "1.2.0",
            "_view_name": "LayoutView",
            "align_content": null,
            "align_items": null,
            "align_self": null,
            "border": null,
            "bottom": null,
            "display": null,
            "flex": null,
            "flex_flow": null,
            "grid_area": null,
            "grid_auto_columns": null,
            "grid_auto_flow": null,
            "grid_auto_rows": null,
            "grid_column": null,
            "grid_gap": null,
            "grid_row": null,
            "grid_template_areas": null,
            "grid_template_columns": null,
            "grid_template_rows": null,
            "height": null,
            "justify_content": null,
            "justify_items": null,
            "left": null,
            "margin": null,
            "max_height": null,
            "max_width": null,
            "min_height": null,
            "min_width": null,
            "object_fit": null,
            "object_position": null,
            "order": null,
            "overflow": null,
            "overflow_x": null,
            "overflow_y": null,
            "padding": null,
            "right": null,
            "top": null,
            "visibility": null,
            "width": null
          }
        },
        "30ecc6faa8534e3aba5766c66889791e": {
          "model_module": "@jupyter-widgets/controls",
          "model_name": "ProgressStyleModel",
          "model_module_version": "1.5.0",
          "state": {
            "_model_module": "@jupyter-widgets/controls",
            "_model_module_version": "1.5.0",
            "_model_name": "ProgressStyleModel",
            "_view_count": null,
            "_view_module": "@jupyter-widgets/base",
            "_view_module_version": "1.2.0",
            "_view_name": "StyleView",
            "bar_color": null,
            "description_width": ""
          }
        },
        "e5c840e6feba4945b0d9095768990ae9": {
          "model_module": "@jupyter-widgets/base",
          "model_name": "LayoutModel",
          "model_module_version": "1.2.0",
          "state": {
            "_model_module": "@jupyter-widgets/base",
            "_model_module_version": "1.2.0",
            "_model_name": "LayoutModel",
            "_view_count": null,
            "_view_module": "@jupyter-widgets/base",
            "_view_module_version": "1.2.0",
            "_view_name": "LayoutView",
            "align_content": null,
            "align_items": null,
            "align_self": null,
            "border": null,
            "bottom": null,
            "display": null,
            "flex": null,
            "flex_flow": null,
            "grid_area": null,
            "grid_auto_columns": null,
            "grid_auto_flow": null,
            "grid_auto_rows": null,
            "grid_column": null,
            "grid_gap": null,
            "grid_row": null,
            "grid_template_areas": null,
            "grid_template_columns": null,
            "grid_template_rows": null,
            "height": null,
            "justify_content": null,
            "justify_items": null,
            "left": null,
            "margin": null,
            "max_height": null,
            "max_width": null,
            "min_height": null,
            "min_width": null,
            "object_fit": null,
            "object_position": null,
            "order": null,
            "overflow": null,
            "overflow_x": null,
            "overflow_y": null,
            "padding": null,
            "right": null,
            "top": null,
            "visibility": null,
            "width": null
          }
        },
        "3b33d38e2972441eae88b3adfaef42a1": {
          "model_module": "@jupyter-widgets/controls",
          "model_name": "DescriptionStyleModel",
          "model_module_version": "1.5.0",
          "state": {
            "_model_module": "@jupyter-widgets/controls",
            "_model_module_version": "1.5.0",
            "_model_name": "DescriptionStyleModel",
            "_view_count": null,
            "_view_module": "@jupyter-widgets/base",
            "_view_module_version": "1.2.0",
            "_view_name": "StyleView",
            "description_width": ""
          }
        },
        "850f68797dc545cabde501e2b1156dbe": {
          "model_module": "@jupyter-widgets/controls",
          "model_name": "HBoxModel",
          "model_module_version": "1.5.0",
          "state": {
            "_dom_classes": [],
            "_model_module": "@jupyter-widgets/controls",
            "_model_module_version": "1.5.0",
            "_model_name": "HBoxModel",
            "_view_count": null,
            "_view_module": "@jupyter-widgets/controls",
            "_view_module_version": "1.5.0",
            "_view_name": "HBoxView",
            "box_style": "",
            "children": [
              "IPY_MODEL_32af35444fd44ac8899dee1d87a6cb9f",
              "IPY_MODEL_87a0b452b7bb421bbe9211ed05b6f211",
              "IPY_MODEL_c5e462a8dbed4403b4e6b5f5967dde07"
            ],
            "layout": "IPY_MODEL_7feb12e917e445e98ddb73b2b9c74e5f"
          }
        },
        "32af35444fd44ac8899dee1d87a6cb9f": {
          "model_module": "@jupyter-widgets/controls",
          "model_name": "HTMLModel",
          "model_module_version": "1.5.0",
          "state": {
            "_dom_classes": [],
            "_model_module": "@jupyter-widgets/controls",
            "_model_module_version": "1.5.0",
            "_model_name": "HTMLModel",
            "_view_count": null,
            "_view_module": "@jupyter-widgets/controls",
            "_view_module_version": "1.5.0",
            "_view_name": "HTMLView",
            "description": "",
            "description_tooltip": null,
            "layout": "IPY_MODEL_9d330faa51b44425afb84b4070777bd4",
            "placeholder": "​",
            "style": "IPY_MODEL_98f6181ce88c40efb14e23582c93b015",
            "value": "Filter (num_proc=2): 100%"
          }
        },
        "87a0b452b7bb421bbe9211ed05b6f211": {
          "model_module": "@jupyter-widgets/controls",
          "model_name": "FloatProgressModel",
          "model_module_version": "1.5.0",
          "state": {
            "_dom_classes": [],
            "_model_module": "@jupyter-widgets/controls",
            "_model_module_version": "1.5.0",
            "_model_name": "FloatProgressModel",
            "_view_count": null,
            "_view_module": "@jupyter-widgets/controls",
            "_view_module_version": "1.5.0",
            "_view_name": "ProgressView",
            "bar_style": "success",
            "description": "",
            "description_tooltip": null,
            "layout": "IPY_MODEL_83d4d9ae3dea410e961ce1ae98154b98",
            "max": 10000,
            "min": 0,
            "orientation": "horizontal",
            "style": "IPY_MODEL_f17dd6cb0cc744b3acf51a3727ac41f4",
            "value": 10000
          }
        },
        "c5e462a8dbed4403b4e6b5f5967dde07": {
          "model_module": "@jupyter-widgets/controls",
          "model_name": "HTMLModel",
          "model_module_version": "1.5.0",
          "state": {
            "_dom_classes": [],
            "_model_module": "@jupyter-widgets/controls",
            "_model_module_version": "1.5.0",
            "_model_name": "HTMLModel",
            "_view_count": null,
            "_view_module": "@jupyter-widgets/controls",
            "_view_module_version": "1.5.0",
            "_view_name": "HTMLView",
            "description": "",
            "description_tooltip": null,
            "layout": "IPY_MODEL_a87191f44cd94e5992db2631abbd1cc3",
            "placeholder": "​",
            "style": "IPY_MODEL_516636de8d1c408b8674aa1d5ce2bf28",
            "value": " 10000/10000 [01:04&lt;00:00, 384.14 examples/s]"
          }
        },
        "7feb12e917e445e98ddb73b2b9c74e5f": {
          "model_module": "@jupyter-widgets/base",
          "model_name": "LayoutModel",
          "model_module_version": "1.2.0",
          "state": {
            "_model_module": "@jupyter-widgets/base",
            "_model_module_version": "1.2.0",
            "_model_name": "LayoutModel",
            "_view_count": null,
            "_view_module": "@jupyter-widgets/base",
            "_view_module_version": "1.2.0",
            "_view_name": "LayoutView",
            "align_content": null,
            "align_items": null,
            "align_self": null,
            "border": null,
            "bottom": null,
            "display": null,
            "flex": null,
            "flex_flow": null,
            "grid_area": null,
            "grid_auto_columns": null,
            "grid_auto_flow": null,
            "grid_auto_rows": null,
            "grid_column": null,
            "grid_gap": null,
            "grid_row": null,
            "grid_template_areas": null,
            "grid_template_columns": null,
            "grid_template_rows": null,
            "height": null,
            "justify_content": null,
            "justify_items": null,
            "left": null,
            "margin": null,
            "max_height": null,
            "max_width": null,
            "min_height": null,
            "min_width": null,
            "object_fit": null,
            "object_position": null,
            "order": null,
            "overflow": null,
            "overflow_x": null,
            "overflow_y": null,
            "padding": null,
            "right": null,
            "top": null,
            "visibility": null,
            "width": null
          }
        },
        "9d330faa51b44425afb84b4070777bd4": {
          "model_module": "@jupyter-widgets/base",
          "model_name": "LayoutModel",
          "model_module_version": "1.2.0",
          "state": {
            "_model_module": "@jupyter-widgets/base",
            "_model_module_version": "1.2.0",
            "_model_name": "LayoutModel",
            "_view_count": null,
            "_view_module": "@jupyter-widgets/base",
            "_view_module_version": "1.2.0",
            "_view_name": "LayoutView",
            "align_content": null,
            "align_items": null,
            "align_self": null,
            "border": null,
            "bottom": null,
            "display": null,
            "flex": null,
            "flex_flow": null,
            "grid_area": null,
            "grid_auto_columns": null,
            "grid_auto_flow": null,
            "grid_auto_rows": null,
            "grid_column": null,
            "grid_gap": null,
            "grid_row": null,
            "grid_template_areas": null,
            "grid_template_columns": null,
            "grid_template_rows": null,
            "height": null,
            "justify_content": null,
            "justify_items": null,
            "left": null,
            "margin": null,
            "max_height": null,
            "max_width": null,
            "min_height": null,
            "min_width": null,
            "object_fit": null,
            "object_position": null,
            "order": null,
            "overflow": null,
            "overflow_x": null,
            "overflow_y": null,
            "padding": null,
            "right": null,
            "top": null,
            "visibility": null,
            "width": null
          }
        },
        "98f6181ce88c40efb14e23582c93b015": {
          "model_module": "@jupyter-widgets/controls",
          "model_name": "DescriptionStyleModel",
          "model_module_version": "1.5.0",
          "state": {
            "_model_module": "@jupyter-widgets/controls",
            "_model_module_version": "1.5.0",
            "_model_name": "DescriptionStyleModel",
            "_view_count": null,
            "_view_module": "@jupyter-widgets/base",
            "_view_module_version": "1.2.0",
            "_view_name": "StyleView",
            "description_width": ""
          }
        },
        "83d4d9ae3dea410e961ce1ae98154b98": {
          "model_module": "@jupyter-widgets/base",
          "model_name": "LayoutModel",
          "model_module_version": "1.2.0",
          "state": {
            "_model_module": "@jupyter-widgets/base",
            "_model_module_version": "1.2.0",
            "_model_name": "LayoutModel",
            "_view_count": null,
            "_view_module": "@jupyter-widgets/base",
            "_view_module_version": "1.2.0",
            "_view_name": "LayoutView",
            "align_content": null,
            "align_items": null,
            "align_self": null,
            "border": null,
            "bottom": null,
            "display": null,
            "flex": null,
            "flex_flow": null,
            "grid_area": null,
            "grid_auto_columns": null,
            "grid_auto_flow": null,
            "grid_auto_rows": null,
            "grid_column": null,
            "grid_gap": null,
            "grid_row": null,
            "grid_template_areas": null,
            "grid_template_columns": null,
            "grid_template_rows": null,
            "height": null,
            "justify_content": null,
            "justify_items": null,
            "left": null,
            "margin": null,
            "max_height": null,
            "max_width": null,
            "min_height": null,
            "min_width": null,
            "object_fit": null,
            "object_position": null,
            "order": null,
            "overflow": null,
            "overflow_x": null,
            "overflow_y": null,
            "padding": null,
            "right": null,
            "top": null,
            "visibility": null,
            "width": null
          }
        },
        "f17dd6cb0cc744b3acf51a3727ac41f4": {
          "model_module": "@jupyter-widgets/controls",
          "model_name": "ProgressStyleModel",
          "model_module_version": "1.5.0",
          "state": {
            "_model_module": "@jupyter-widgets/controls",
            "_model_module_version": "1.5.0",
            "_model_name": "ProgressStyleModel",
            "_view_count": null,
            "_view_module": "@jupyter-widgets/base",
            "_view_module_version": "1.2.0",
            "_view_name": "StyleView",
            "bar_color": null,
            "description_width": ""
          }
        },
        "a87191f44cd94e5992db2631abbd1cc3": {
          "model_module": "@jupyter-widgets/base",
          "model_name": "LayoutModel",
          "model_module_version": "1.2.0",
          "state": {
            "_model_module": "@jupyter-widgets/base",
            "_model_module_version": "1.2.0",
            "_model_name": "LayoutModel",
            "_view_count": null,
            "_view_module": "@jupyter-widgets/base",
            "_view_module_version": "1.2.0",
            "_view_name": "LayoutView",
            "align_content": null,
            "align_items": null,
            "align_self": null,
            "border": null,
            "bottom": null,
            "display": null,
            "flex": null,
            "flex_flow": null,
            "grid_area": null,
            "grid_auto_columns": null,
            "grid_auto_flow": null,
            "grid_auto_rows": null,
            "grid_column": null,
            "grid_gap": null,
            "grid_row": null,
            "grid_template_areas": null,
            "grid_template_columns": null,
            "grid_template_rows": null,
            "height": null,
            "justify_content": null,
            "justify_items": null,
            "left": null,
            "margin": null,
            "max_height": null,
            "max_width": null,
            "min_height": null,
            "min_width": null,
            "object_fit": null,
            "object_position": null,
            "order": null,
            "overflow": null,
            "overflow_x": null,
            "overflow_y": null,
            "padding": null,
            "right": null,
            "top": null,
            "visibility": null,
            "width": null
          }
        },
        "516636de8d1c408b8674aa1d5ce2bf28": {
          "model_module": "@jupyter-widgets/controls",
          "model_name": "DescriptionStyleModel",
          "model_module_version": "1.5.0",
          "state": {
            "_model_module": "@jupyter-widgets/controls",
            "_model_module_version": "1.5.0",
            "_model_name": "DescriptionStyleModel",
            "_view_count": null,
            "_view_module": "@jupyter-widgets/base",
            "_view_module_version": "1.2.0",
            "_view_name": "StyleView",
            "description_width": ""
          }
        },
        "7b5978f24ce0409ab071887c542f2817": {
          "model_module": "@jupyter-widgets/controls",
          "model_name": "HBoxModel",
          "model_module_version": "1.5.0",
          "state": {
            "_dom_classes": [],
            "_model_module": "@jupyter-widgets/controls",
            "_model_module_version": "1.5.0",
            "_model_name": "HBoxModel",
            "_view_count": null,
            "_view_module": "@jupyter-widgets/controls",
            "_view_module_version": "1.5.0",
            "_view_name": "HBoxView",
            "box_style": "",
            "children": [
              "IPY_MODEL_ecc4ba5dcffb40c888448dacb56d7ee8",
              "IPY_MODEL_46052a410d4c4d67855a4d8789955539",
              "IPY_MODEL_6a3364218592478b80a27de3d8f7886f"
            ],
            "layout": "IPY_MODEL_e29cde4379834f1293074ed3533a9330"
          }
        },
        "ecc4ba5dcffb40c888448dacb56d7ee8": {
          "model_module": "@jupyter-widgets/controls",
          "model_name": "HTMLModel",
          "model_module_version": "1.5.0",
          "state": {
            "_dom_classes": [],
            "_model_module": "@jupyter-widgets/controls",
            "_model_module_version": "1.5.0",
            "_model_name": "HTMLModel",
            "_view_count": null,
            "_view_module": "@jupyter-widgets/controls",
            "_view_module_version": "1.5.0",
            "_view_name": "HTMLView",
            "description": "",
            "description_tooltip": null,
            "layout": "IPY_MODEL_43e178fde6b84f68bf6aa420c9b4af0d",
            "placeholder": "​",
            "style": "IPY_MODEL_aa125415f7324d50901a64c5b344b416",
            "value": "Map (num_proc=2): 100%"
          }
        },
        "46052a410d4c4d67855a4d8789955539": {
          "model_module": "@jupyter-widgets/controls",
          "model_name": "FloatProgressModel",
          "model_module_version": "1.5.0",
          "state": {
            "_dom_classes": [],
            "_model_module": "@jupyter-widgets/controls",
            "_model_module_version": "1.5.0",
            "_model_name": "FloatProgressModel",
            "_view_count": null,
            "_view_module": "@jupyter-widgets/controls",
            "_view_module_version": "1.5.0",
            "_view_name": "ProgressView",
            "bar_style": "success",
            "description": "",
            "description_tooltip": null,
            "layout": "IPY_MODEL_7f69f0e11798446aa2bb34ccacc9f3c8",
            "max": 6613,
            "min": 0,
            "orientation": "horizontal",
            "style": "IPY_MODEL_b093c4b83b904152b1e6243ea8cdd863",
            "value": 6613
          }
        },
        "6a3364218592478b80a27de3d8f7886f": {
          "model_module": "@jupyter-widgets/controls",
          "model_name": "HTMLModel",
          "model_module_version": "1.5.0",
          "state": {
            "_dom_classes": [],
            "_model_module": "@jupyter-widgets/controls",
            "_model_module_version": "1.5.0",
            "_model_name": "HTMLModel",
            "_view_count": null,
            "_view_module": "@jupyter-widgets/controls",
            "_view_module_version": "1.5.0",
            "_view_name": "HTMLView",
            "description": "",
            "description_tooltip": null,
            "layout": "IPY_MODEL_8d217a8a65ca4a878207ba2fb789cf7e",
            "placeholder": "​",
            "style": "IPY_MODEL_d96c298f6a7b41458a5132facf8c4a29",
            "value": " 6613/6613 [00:47&lt;00:00, 341.17 examples/s]"
          }
        },
        "e29cde4379834f1293074ed3533a9330": {
          "model_module": "@jupyter-widgets/base",
          "model_name": "LayoutModel",
          "model_module_version": "1.2.0",
          "state": {
            "_model_module": "@jupyter-widgets/base",
            "_model_module_version": "1.2.0",
            "_model_name": "LayoutModel",
            "_view_count": null,
            "_view_module": "@jupyter-widgets/base",
            "_view_module_version": "1.2.0",
            "_view_name": "LayoutView",
            "align_content": null,
            "align_items": null,
            "align_self": null,
            "border": null,
            "bottom": null,
            "display": null,
            "flex": null,
            "flex_flow": null,
            "grid_area": null,
            "grid_auto_columns": null,
            "grid_auto_flow": null,
            "grid_auto_rows": null,
            "grid_column": null,
            "grid_gap": null,
            "grid_row": null,
            "grid_template_areas": null,
            "grid_template_columns": null,
            "grid_template_rows": null,
            "height": null,
            "justify_content": null,
            "justify_items": null,
            "left": null,
            "margin": null,
            "max_height": null,
            "max_width": null,
            "min_height": null,
            "min_width": null,
            "object_fit": null,
            "object_position": null,
            "order": null,
            "overflow": null,
            "overflow_x": null,
            "overflow_y": null,
            "padding": null,
            "right": null,
            "top": null,
            "visibility": null,
            "width": null
          }
        },
        "43e178fde6b84f68bf6aa420c9b4af0d": {
          "model_module": "@jupyter-widgets/base",
          "model_name": "LayoutModel",
          "model_module_version": "1.2.0",
          "state": {
            "_model_module": "@jupyter-widgets/base",
            "_model_module_version": "1.2.0",
            "_model_name": "LayoutModel",
            "_view_count": null,
            "_view_module": "@jupyter-widgets/base",
            "_view_module_version": "1.2.0",
            "_view_name": "LayoutView",
            "align_content": null,
            "align_items": null,
            "align_self": null,
            "border": null,
            "bottom": null,
            "display": null,
            "flex": null,
            "flex_flow": null,
            "grid_area": null,
            "grid_auto_columns": null,
            "grid_auto_flow": null,
            "grid_auto_rows": null,
            "grid_column": null,
            "grid_gap": null,
            "grid_row": null,
            "grid_template_areas": null,
            "grid_template_columns": null,
            "grid_template_rows": null,
            "height": null,
            "justify_content": null,
            "justify_items": null,
            "left": null,
            "margin": null,
            "max_height": null,
            "max_width": null,
            "min_height": null,
            "min_width": null,
            "object_fit": null,
            "object_position": null,
            "order": null,
            "overflow": null,
            "overflow_x": null,
            "overflow_y": null,
            "padding": null,
            "right": null,
            "top": null,
            "visibility": null,
            "width": null
          }
        },
        "aa125415f7324d50901a64c5b344b416": {
          "model_module": "@jupyter-widgets/controls",
          "model_name": "DescriptionStyleModel",
          "model_module_version": "1.5.0",
          "state": {
            "_model_module": "@jupyter-widgets/controls",
            "_model_module_version": "1.5.0",
            "_model_name": "DescriptionStyleModel",
            "_view_count": null,
            "_view_module": "@jupyter-widgets/base",
            "_view_module_version": "1.2.0",
            "_view_name": "StyleView",
            "description_width": ""
          }
        },
        "7f69f0e11798446aa2bb34ccacc9f3c8": {
          "model_module": "@jupyter-widgets/base",
          "model_name": "LayoutModel",
          "model_module_version": "1.2.0",
          "state": {
            "_model_module": "@jupyter-widgets/base",
            "_model_module_version": "1.2.0",
            "_model_name": "LayoutModel",
            "_view_count": null,
            "_view_module": "@jupyter-widgets/base",
            "_view_module_version": "1.2.0",
            "_view_name": "LayoutView",
            "align_content": null,
            "align_items": null,
            "align_self": null,
            "border": null,
            "bottom": null,
            "display": null,
            "flex": null,
            "flex_flow": null,
            "grid_area": null,
            "grid_auto_columns": null,
            "grid_auto_flow": null,
            "grid_auto_rows": null,
            "grid_column": null,
            "grid_gap": null,
            "grid_row": null,
            "grid_template_areas": null,
            "grid_template_columns": null,
            "grid_template_rows": null,
            "height": null,
            "justify_content": null,
            "justify_items": null,
            "left": null,
            "margin": null,
            "max_height": null,
            "max_width": null,
            "min_height": null,
            "min_width": null,
            "object_fit": null,
            "object_position": null,
            "order": null,
            "overflow": null,
            "overflow_x": null,
            "overflow_y": null,
            "padding": null,
            "right": null,
            "top": null,
            "visibility": null,
            "width": null
          }
        },
        "b093c4b83b904152b1e6243ea8cdd863": {
          "model_module": "@jupyter-widgets/controls",
          "model_name": "ProgressStyleModel",
          "model_module_version": "1.5.0",
          "state": {
            "_model_module": "@jupyter-widgets/controls",
            "_model_module_version": "1.5.0",
            "_model_name": "ProgressStyleModel",
            "_view_count": null,
            "_view_module": "@jupyter-widgets/base",
            "_view_module_version": "1.2.0",
            "_view_name": "StyleView",
            "bar_color": null,
            "description_width": ""
          }
        },
        "8d217a8a65ca4a878207ba2fb789cf7e": {
          "model_module": "@jupyter-widgets/base",
          "model_name": "LayoutModel",
          "model_module_version": "1.2.0",
          "state": {
            "_model_module": "@jupyter-widgets/base",
            "_model_module_version": "1.2.0",
            "_model_name": "LayoutModel",
            "_view_count": null,
            "_view_module": "@jupyter-widgets/base",
            "_view_module_version": "1.2.0",
            "_view_name": "LayoutView",
            "align_content": null,
            "align_items": null,
            "align_self": null,
            "border": null,
            "bottom": null,
            "display": null,
            "flex": null,
            "flex_flow": null,
            "grid_area": null,
            "grid_auto_columns": null,
            "grid_auto_flow": null,
            "grid_auto_rows": null,
            "grid_column": null,
            "grid_gap": null,
            "grid_row": null,
            "grid_template_areas": null,
            "grid_template_columns": null,
            "grid_template_rows": null,
            "height": null,
            "justify_content": null,
            "justify_items": null,
            "left": null,
            "margin": null,
            "max_height": null,
            "max_width": null,
            "min_height": null,
            "min_width": null,
            "object_fit": null,
            "object_position": null,
            "order": null,
            "overflow": null,
            "overflow_x": null,
            "overflow_y": null,
            "padding": null,
            "right": null,
            "top": null,
            "visibility": null,
            "width": null
          }
        },
        "d96c298f6a7b41458a5132facf8c4a29": {
          "model_module": "@jupyter-widgets/controls",
          "model_name": "DescriptionStyleModel",
          "model_module_version": "1.5.0",
          "state": {
            "_model_module": "@jupyter-widgets/controls",
            "_model_module_version": "1.5.0",
            "_model_name": "DescriptionStyleModel",
            "_view_count": null,
            "_view_module": "@jupyter-widgets/base",
            "_view_module_version": "1.2.0",
            "_view_name": "StyleView",
            "description_width": ""
          }
        }
      }
    }
  },
  "nbformat_minor": 0,
  "nbformat": 4,
  "cells": [
    {
      "cell_type": "raw",
      "source": [
        "!git clone https://github.com/r4tangUCSD/lyric-agent.git"
      ],
      "metadata": {
        "id": "4_8HaYRPC8gd",
        "outputId": "081e85f9-818b-40e1-be7a-2655cf0fffbe",
        "execution": {
          "iopub.status.busy": "2025-02-16T22:23:37.915664Z",
          "iopub.execute_input": "2025-02-16T22:23:37.915850Z"
        }
      }
    },
    {
      "cell_type": "code",
      "source": [
        "!pip install datasets\n",
        "# !pip install ipywidgets\n",
        "!pip install tqdm\n",
        "# !pip install tensorflow"
      ],
      "metadata": {
        "id": "jBjwLa6kDA0n",
        "trusted": true,
        "execution": {
          "iopub.status.busy": "2025-03-16T00:09:15.376359Z",
          "iopub.execute_input": "2025-03-16T00:09:15.376664Z",
          "iopub.status.idle": "2025-03-16T00:09:25.062000Z",
          "shell.execute_reply.started": "2025-03-16T00:09:15.376638Z",
          "shell.execute_reply": "2025-03-16T00:09:25.060987Z"
        },
        "colab": {
          "base_uri": "https://localhost:8080/"
        },
        "outputId": "dbfacaba-1f68-4ca7-bf89-64d6ca5af015"
      },
      "outputs": [
        {
          "output_type": "stream",
          "name": "stdout",
          "text": [
            "Collecting datasets\n",
            "  Downloading datasets-3.4.0-py3-none-any.whl.metadata (19 kB)\n",
            "Requirement already satisfied: filelock in /usr/local/lib/python3.11/dist-packages (from datasets) (3.17.0)\n",
            "Requirement already satisfied: numpy>=1.17 in /usr/local/lib/python3.11/dist-packages (from datasets) (1.26.4)\n",
            "Requirement already satisfied: pyarrow>=15.0.0 in /usr/local/lib/python3.11/dist-packages (from datasets) (18.1.0)\n",
            "Collecting dill<0.3.9,>=0.3.0 (from datasets)\n",
            "  Downloading dill-0.3.8-py3-none-any.whl.metadata (10 kB)\n",
            "Requirement already satisfied: pandas in /usr/local/lib/python3.11/dist-packages (from datasets) (2.2.2)\n",
            "Requirement already satisfied: requests>=2.32.2 in /usr/local/lib/python3.11/dist-packages (from datasets) (2.32.3)\n",
            "Requirement already satisfied: tqdm>=4.66.3 in /usr/local/lib/python3.11/dist-packages (from datasets) (4.67.1)\n",
            "Collecting xxhash (from datasets)\n",
            "  Downloading xxhash-3.5.0-cp311-cp311-manylinux_2_17_x86_64.manylinux2014_x86_64.whl.metadata (12 kB)\n",
            "Collecting multiprocess<0.70.17 (from datasets)\n",
            "  Downloading multiprocess-0.70.16-py311-none-any.whl.metadata (7.2 kB)\n",
            "Requirement already satisfied: fsspec<=2024.12.0,>=2023.1.0 in /usr/local/lib/python3.11/dist-packages (from fsspec[http]<=2024.12.0,>=2023.1.0->datasets) (2024.10.0)\n",
            "Requirement already satisfied: aiohttp in /usr/local/lib/python3.11/dist-packages (from datasets) (3.11.13)\n",
            "Requirement already satisfied: huggingface-hub>=0.24.0 in /usr/local/lib/python3.11/dist-packages (from datasets) (0.28.1)\n",
            "Requirement already satisfied: packaging in /usr/local/lib/python3.11/dist-packages (from datasets) (24.2)\n",
            "Requirement already satisfied: pyyaml>=5.1 in /usr/local/lib/python3.11/dist-packages (from datasets) (6.0.2)\n",
            "Requirement already satisfied: aiohappyeyeballs>=2.3.0 in /usr/local/lib/python3.11/dist-packages (from aiohttp->datasets) (2.6.1)\n",
            "Requirement already satisfied: aiosignal>=1.1.2 in /usr/local/lib/python3.11/dist-packages (from aiohttp->datasets) (1.3.2)\n",
            "Requirement already satisfied: attrs>=17.3.0 in /usr/local/lib/python3.11/dist-packages (from aiohttp->datasets) (25.2.0)\n",
            "Requirement already satisfied: frozenlist>=1.1.1 in /usr/local/lib/python3.11/dist-packages (from aiohttp->datasets) (1.5.0)\n",
            "Requirement already satisfied: multidict<7.0,>=4.5 in /usr/local/lib/python3.11/dist-packages (from aiohttp->datasets) (6.1.0)\n",
            "Requirement already satisfied: propcache>=0.2.0 in /usr/local/lib/python3.11/dist-packages (from aiohttp->datasets) (0.3.0)\n",
            "Requirement already satisfied: yarl<2.0,>=1.17.0 in /usr/local/lib/python3.11/dist-packages (from aiohttp->datasets) (1.18.3)\n",
            "Requirement already satisfied: typing-extensions>=3.7.4.3 in /usr/local/lib/python3.11/dist-packages (from huggingface-hub>=0.24.0->datasets) (4.12.2)\n",
            "Requirement already satisfied: charset-normalizer<4,>=2 in /usr/local/lib/python3.11/dist-packages (from requests>=2.32.2->datasets) (3.4.1)\n",
            "Requirement already satisfied: idna<4,>=2.5 in /usr/local/lib/python3.11/dist-packages (from requests>=2.32.2->datasets) (3.10)\n",
            "Requirement already satisfied: urllib3<3,>=1.21.1 in /usr/local/lib/python3.11/dist-packages (from requests>=2.32.2->datasets) (2.3.0)\n",
            "Requirement already satisfied: certifi>=2017.4.17 in /usr/local/lib/python3.11/dist-packages (from requests>=2.32.2->datasets) (2025.1.31)\n",
            "Requirement already satisfied: python-dateutil>=2.8.2 in /usr/local/lib/python3.11/dist-packages (from pandas->datasets) (2.8.2)\n",
            "Requirement already satisfied: pytz>=2020.1 in /usr/local/lib/python3.11/dist-packages (from pandas->datasets) (2025.1)\n",
            "Requirement already satisfied: tzdata>=2022.7 in /usr/local/lib/python3.11/dist-packages (from pandas->datasets) (2025.1)\n",
            "Requirement already satisfied: six>=1.5 in /usr/local/lib/python3.11/dist-packages (from python-dateutil>=2.8.2->pandas->datasets) (1.17.0)\n",
            "Downloading datasets-3.4.0-py3-none-any.whl (487 kB)\n",
            "\u001b[2K   \u001b[90m━━━━━━━━━━━━━━━━━━━━━━━━━━━━━━━━━━━━━━━━\u001b[0m \u001b[32m487.4/487.4 kB\u001b[0m \u001b[31m12.7 MB/s\u001b[0m eta \u001b[36m0:00:00\u001b[0m\n",
            "\u001b[?25hDownloading dill-0.3.8-py3-none-any.whl (116 kB)\n",
            "\u001b[2K   \u001b[90m━━━━━━━━━━━━━━━━━━━━━━━━━━━━━━━━━━━━━━━━\u001b[0m \u001b[32m116.3/116.3 kB\u001b[0m \u001b[31m5.4 MB/s\u001b[0m eta \u001b[36m0:00:00\u001b[0m\n",
            "\u001b[?25hDownloading multiprocess-0.70.16-py311-none-any.whl (143 kB)\n",
            "\u001b[2K   \u001b[90m━━━━━━━━━━━━━━━━━━━━━━━━━━━━━━━━━━━━━━━━\u001b[0m \u001b[32m143.5/143.5 kB\u001b[0m \u001b[31m6.9 MB/s\u001b[0m eta \u001b[36m0:00:00\u001b[0m\n",
            "\u001b[?25hDownloading xxhash-3.5.0-cp311-cp311-manylinux_2_17_x86_64.manylinux2014_x86_64.whl (194 kB)\n",
            "\u001b[2K   \u001b[90m━━━━━━━━━━━━━━━━━━━━━━━━━━━━━━━━━━━━━━━━\u001b[0m \u001b[32m194.8/194.8 kB\u001b[0m \u001b[31m8.9 MB/s\u001b[0m eta \u001b[36m0:00:00\u001b[0m\n",
            "\u001b[?25hInstalling collected packages: xxhash, dill, multiprocess, datasets\n",
            "Successfully installed datasets-3.4.0 dill-0.3.8 multiprocess-0.70.16 xxhash-3.5.0\n",
            "Requirement already satisfied: tqdm in /usr/local/lib/python3.11/dist-packages (4.67.1)\n"
          ]
        }
      ],
      "execution_count": 1
    },
    {
      "cell_type": "code",
      "source": [
        "from datasets import load_dataset\n",
        "\n",
        "dataset_raw = load_dataset(\"sebastiandizon/genius-song-lyrics\")\n",
        "#dataset = load_dataset(\"sebastiandizon/genius-song-lyrics\", split=\"train[:100000]\")"
      ],
      "metadata": {
        "colab": {
          "base_uri": "https://localhost:8080/",
          "height": 217,
          "referenced_widgets": [
            "80584f93181c4f41854a5b7bf9d3293e",
            "fcfd75b47a534483bbb5c10333bb033d",
            "d101768e0ba948629e14c1388531e258",
            "f7c589264b784ebfb54a56aebfb816eb",
            "9583b5254e2345fb920c45497661d89c",
            "77533297457b497ebd63bad695cb508c",
            "b571b30c82fb4d5fb9818c4d31314d83",
            "38a9edc90cee4e8cafbf7256441dccf7",
            "d0b28d2fc25a4c909d56bb01e80a3e86",
            "2683bdb46f734b1ea2a831cc557a8117",
            "a72e80c970f74261be8f706a89d59e9e",
            "caf40f1fdc564543b896b9020dfbeb24",
            "002fe03944b347788f795f90729c57bd",
            "4c75b057d1f44712b461753244e165c8",
            "712d1fbb703b4f32bd4dfbc7f339cc7f",
            "de2fbe45a8854986987bf13753df4b3c",
            "d5dffec4f4c74998b3bc22f8c2b33228",
            "bc9f24e988544341afabdb8df8d34e92",
            "89ca932aa28d465b9b5565868725180e",
            "8e2ab08f34024490b2e481e4532c5219",
            "0bcb66d501dc4318a2a780e3745fa256",
            "8ae3844fb7974b7997fa79dabd169c8e",
            "3b07922ffc6943b393ba9535c2c639f5",
            "1414a252521c478495046e3d40883c83",
            "6a752dee65734633bcaedbe6cef2f7c5",
            "669cb53fb22946259ec0dbeee910d1fa",
            "a070ae810a3540228057247bafcc4314",
            "40e3de8ad4f64b218737f659107b74b0",
            "c0164ed274a04cd6912073819ea93deb",
            "764cc7047de549b18cdbfc1ab65b11d7",
            "30ecc6faa8534e3aba5766c66889791e",
            "e5c840e6feba4945b0d9095768990ae9",
            "3b33d38e2972441eae88b3adfaef42a1"
          ]
        },
        "id": "HO_Y5IFgDIZa",
        "outputId": "faeacbbd-62db-4178-d0a4-2d0434791ffa",
        "trusted": true,
        "execution": {
          "iopub.status.busy": "2025-03-16T01:05:45.942718Z",
          "iopub.execute_input": "2025-03-16T01:05:45.943057Z",
          "iopub.status.idle": "2025-03-16T01:06:06.814877Z",
          "shell.execute_reply.started": "2025-03-16T01:05:45.943031Z",
          "shell.execute_reply": "2025-03-16T01:06:06.813598Z"
        }
      },
      "outputs": [
        {
          "output_type": "stream",
          "name": "stderr",
          "text": [
            "/usr/local/lib/python3.11/dist-packages/huggingface_hub/utils/_auth.py:94: UserWarning: \n",
            "The secret `HF_TOKEN` does not exist in your Colab secrets.\n",
            "To authenticate with the Hugging Face Hub, create a token in your settings tab (https://huggingface.co/settings/tokens), set it as secret in your Google Colab and restart your session.\n",
            "You will be able to reuse this secret in all of your notebooks.\n",
            "Please note that authentication is recommended but still optional to access public models or datasets.\n",
            "  warnings.warn(\n"
          ]
        },
        {
          "output_type": "display_data",
          "data": {
            "text/plain": [
              "song_lyrics%202.csv:   0%|          | 0.00/9.07G [00:00<?, ?B/s]"
            ],
            "application/vnd.jupyter.widget-view+json": {
              "version_major": 2,
              "version_minor": 0,
              "model_id": "80584f93181c4f41854a5b7bf9d3293e"
            }
          },
          "metadata": {}
        },
        {
          "output_type": "display_data",
          "data": {
            "text/plain": [
              "Generating train split: 0 examples [00:00, ? examples/s]"
            ],
            "application/vnd.jupyter.widget-view+json": {
              "version_major": 2,
              "version_minor": 0,
              "model_id": "caf40f1fdc564543b896b9020dfbeb24"
            }
          },
          "metadata": {}
        },
        {
          "output_type": "display_data",
          "data": {
            "text/plain": [
              "Loading dataset shards:   0%|          | 0/19 [00:00<?, ?it/s]"
            ],
            "application/vnd.jupyter.widget-view+json": {
              "version_major": 2,
              "version_minor": 0,
              "model_id": "3b07922ffc6943b393ba9535c2c639f5"
            }
          },
          "metadata": {}
        }
      ],
      "execution_count": 3
    },
    {
      "cell_type": "code",
      "source": [
        "dataset = dataset_raw[\"train\"].shuffle(seed=42).select(range(10000))"
      ],
      "metadata": {
        "trusted": true,
        "execution": {
          "iopub.status.busy": "2025-03-16T01:16:45.696184Z",
          "iopub.execute_input": "2025-03-16T01:16:45.696672Z",
          "iopub.status.idle": "2025-03-16T01:16:45.927186Z",
          "shell.execute_reply.started": "2025-03-16T01:16:45.696636Z",
          "shell.execute_reply": "2025-03-16T01:16:45.925731Z"
        },
        "id": "I9b6mkYcTUC_"
      },
      "outputs": [],
      "execution_count": 4
    },
    {
      "cell_type": "code",
      "source": [
        "dataset"
      ],
      "metadata": {
        "colab": {
          "base_uri": "https://localhost:8080/"
        },
        "id": "VUdnODhqGXOV",
        "outputId": "0c9fe193-4c21-426a-9cca-26c4f014bf64",
        "trusted": true,
        "execution": {
          "iopub.status.busy": "2025-03-16T01:16:46.364644Z",
          "iopub.execute_input": "2025-03-16T01:16:46.365085Z",
          "iopub.status.idle": "2025-03-16T01:16:46.373927Z",
          "shell.execute_reply.started": "2025-03-16T01:16:46.365047Z",
          "shell.execute_reply": "2025-03-16T01:16:46.371851Z"
        }
      },
      "outputs": [
        {
          "output_type": "execute_result",
          "data": {
            "text/plain": [
              "Dataset({\n",
              "    features: ['title', 'tag', 'artist', 'year', 'views', 'features', 'lyrics', 'id', 'language_cld3', 'language_ft', 'language'],\n",
              "    num_rows: 10000\n",
              "})"
            ]
          },
          "metadata": {},
          "execution_count": 5
        }
      ],
      "execution_count": 5
    },
    {
      "cell_type": "code",
      "source": [
        "# drop id\n",
        "dataset = dataset.remove_columns(['id'])\n",
        "#drop views\n",
        "dataset = dataset.remove_columns(['views'])"
      ],
      "metadata": {
        "id": "zCVjleTdG5cl",
        "trusted": true,
        "execution": {
          "iopub.status.busy": "2025-03-16T01:16:46.765973Z",
          "iopub.execute_input": "2025-03-16T01:16:46.766413Z",
          "iopub.status.idle": "2025-03-16T01:16:46.884082Z",
          "shell.execute_reply.started": "2025-03-16T01:16:46.766379Z",
          "shell.execute_reply": "2025-03-16T01:16:46.882878Z"
        }
      },
      "outputs": [],
      "execution_count": 6
    },
    {
      "cell_type": "code",
      "source": [
        "import multiprocessing\n",
        "num_cpus = multiprocessing.cpu_count()\n",
        "num_cpus"
      ],
      "metadata": {
        "colab": {
          "base_uri": "https://localhost:8080/"
        },
        "id": "e-uNFCB8m0bm",
        "outputId": "a3440174-35cc-4ad1-b443-1bcd0d0cf927",
        "trusted": true,
        "execution": {
          "iopub.status.busy": "2025-03-16T01:16:47.249659Z",
          "iopub.execute_input": "2025-03-16T01:16:47.250090Z",
          "iopub.status.idle": "2025-03-16T01:16:47.257933Z",
          "shell.execute_reply.started": "2025-03-16T01:16:47.250058Z",
          "shell.execute_reply": "2025-03-16T01:16:47.256326Z"
        }
      },
      "outputs": [
        {
          "output_type": "execute_result",
          "data": {
            "text/plain": [
              "2"
            ]
          },
          "metadata": {},
          "execution_count": 7
        }
      ],
      "execution_count": 7
    },
    {
      "cell_type": "code",
      "source": [
        "# drop non-english songs\n",
        "dataset = dataset.filter(\n",
        "    lambda song: song['language'] == 'en' and song['language_ft'] == 'en' and song['language_cld3'] == 'en',\n",
        "    num_proc = num_cpus\n",
        ")\n",
        "dataset = dataset.remove_columns(['language_cld3', 'language_ft', 'language', 'artist', 'year', 'features'])"
      ],
      "metadata": {
        "id": "N-SitOWeIECn",
        "trusted": true,
        "execution": {
          "iopub.status.busy": "2025-03-16T01:16:48.567207Z",
          "iopub.execute_input": "2025-03-16T01:16:48.568098Z",
          "iopub.status.idle": "2025-03-16T01:17:14.830840Z",
          "shell.execute_reply.started": "2025-03-16T01:16:48.568035Z",
          "shell.execute_reply": "2025-03-16T01:17:14.828341Z"
        },
        "colab": {
          "base_uri": "https://localhost:8080/",
          "height": 49,
          "referenced_widgets": [
            "850f68797dc545cabde501e2b1156dbe",
            "32af35444fd44ac8899dee1d87a6cb9f",
            "87a0b452b7bb421bbe9211ed05b6f211",
            "c5e462a8dbed4403b4e6b5f5967dde07",
            "7feb12e917e445e98ddb73b2b9c74e5f",
            "9d330faa51b44425afb84b4070777bd4",
            "98f6181ce88c40efb14e23582c93b015",
            "83d4d9ae3dea410e961ce1ae98154b98",
            "f17dd6cb0cc744b3acf51a3727ac41f4",
            "a87191f44cd94e5992db2631abbd1cc3",
            "516636de8d1c408b8674aa1d5ce2bf28"
          ]
        },
        "outputId": "c18ddf54-4558-42d8-9d9b-9f80bf358527"
      },
      "outputs": [
        {
          "output_type": "display_data",
          "data": {
            "text/plain": [
              "Filter (num_proc=2):   0%|          | 0/10000 [00:00<?, ? examples/s]"
            ],
            "application/vnd.jupyter.widget-view+json": {
              "version_major": 2,
              "version_minor": 0,
              "model_id": "850f68797dc545cabde501e2b1156dbe"
            }
          },
          "metadata": {}
        }
      ],
      "execution_count": 8
    },
    {
      "cell_type": "code",
      "source": [
        "# see how many observations/rows in dataset along with our features\n",
        "dataset"
      ],
      "metadata": {
        "id": "-7dHAr3EIBl_",
        "trusted": true,
        "execution": {
          "iopub.status.busy": "2025-03-16T01:17:14.833495Z",
          "iopub.execute_input": "2025-03-16T01:17:14.833982Z",
          "iopub.status.idle": "2025-03-16T01:17:14.840711Z",
          "shell.execute_reply.started": "2025-03-16T01:17:14.833946Z",
          "shell.execute_reply": "2025-03-16T01:17:14.839641Z"
        },
        "colab": {
          "base_uri": "https://localhost:8080/"
        },
        "outputId": "918bcce3-e212-4e31-8c99-3774ba6ef6d4"
      },
      "outputs": [
        {
          "output_type": "execute_result",
          "data": {
            "text/plain": [
              "Dataset({\n",
              "    features: ['title', 'tag', 'lyrics'],\n",
              "    num_rows: 6613\n",
              "})"
            ]
          },
          "metadata": {},
          "execution_count": 9
        }
      ],
      "execution_count": 9
    },
    {
      "cell_type": "code",
      "source": [
        "import re\n",
        "\n",
        "def generate_tokens(batch):\n",
        "    \"\"\" Tokenizer that assigns each word to a song section correctly. \"\"\"\n",
        "    tokenized_lyrics = []\n",
        "\n",
        "    for lyrics in batch[\"lyrics\"]:\n",
        "        tokens = re.findall(r\"[\\w']+|[.,!?;(){}\\[\\]]\", lyrics)  # Tokenize with punctuation\n",
        "        section = \"Unknown\"  # Default section for words before the first section label\n",
        "        in_section_label = False  # Flag for detecting section headers\n",
        "        sectioned_tokens = []  # Store (word, section) pairs\n",
        "\n",
        "        for token in tokens:\n",
        "            if token == \"[\":\n",
        "                in_section_label = True  # Start detecting section name\n",
        "                continue\n",
        "            elif in_section_label:\n",
        "                section = token  # Set new section name\n",
        "                in_section_label = False  # Reset flag\n",
        "                continue\n",
        "            elif token == \"]\":\n",
        "                continue  # Ignore the closing bracket\n",
        "\n",
        "            # Only store tokens that are actual words, not stray brackets or empty sections\n",
        "            if token.isalnum():\n",
        "                sectioned_tokens.append((token, section))\n",
        "\n",
        "        tokenized_lyrics.append(sectioned_tokens)\n",
        "\n",
        "    return {\"lyric_tokens\": tokenized_lyrics}\n",
        "\n",
        "dataset = dataset.map(generate_tokens, batched=True, num_proc=num_cpus)"
      ],
      "metadata": {
        "id": "AyoZVW_0YB7U",
        "trusted": true,
        "execution": {
          "iopub.status.busy": "2025-03-16T01:17:14.842387Z",
          "iopub.execute_input": "2025-03-16T01:17:14.842644Z",
          "iopub.status.idle": "2025-03-16T01:17:16.710927Z",
          "shell.execute_reply.started": "2025-03-16T01:17:14.842615Z",
          "shell.execute_reply": "2025-03-16T01:17:16.708988Z"
        },
        "colab": {
          "base_uri": "https://localhost:8080/",
          "height": 49,
          "referenced_widgets": [
            "7b5978f24ce0409ab071887c542f2817",
            "ecc4ba5dcffb40c888448dacb56d7ee8",
            "46052a410d4c4d67855a4d8789955539",
            "6a3364218592478b80a27de3d8f7886f",
            "e29cde4379834f1293074ed3533a9330",
            "43e178fde6b84f68bf6aa420c9b4af0d",
            "aa125415f7324d50901a64c5b344b416",
            "7f69f0e11798446aa2bb34ccacc9f3c8",
            "b093c4b83b904152b1e6243ea8cdd863",
            "8d217a8a65ca4a878207ba2fb789cf7e",
            "d96c298f6a7b41458a5132facf8c4a29"
          ]
        },
        "outputId": "ba7f6a2b-fb4d-4c55-8c91-8204999bccf7"
      },
      "outputs": [
        {
          "output_type": "display_data",
          "data": {
            "text/plain": [
              "Map (num_proc=2):   0%|          | 0/6613 [00:00<?, ? examples/s]"
            ],
            "application/vnd.jupyter.widget-view+json": {
              "version_major": 2,
              "version_minor": 0,
              "model_id": "7b5978f24ce0409ab071887c542f2817"
            }
          },
          "metadata": {}
        }
      ],
      "execution_count": 10
    },
    {
      "cell_type": "code",
      "source": [
        "dataset"
      ],
      "metadata": {
        "trusted": true,
        "execution": {
          "iopub.status.busy": "2025-03-16T01:17:16.713192Z",
          "iopub.execute_input": "2025-03-16T01:17:16.713614Z",
          "iopub.status.idle": "2025-03-16T01:17:16.722643Z",
          "shell.execute_reply.started": "2025-03-16T01:17:16.713580Z",
          "shell.execute_reply": "2025-03-16T01:17:16.720390Z"
        },
        "colab": {
          "base_uri": "https://localhost:8080/"
        },
        "id": "8_Pu5R1cTUDM",
        "outputId": "a0318de5-d554-46c3-cca3-53037d2069fe"
      },
      "outputs": [
        {
          "output_type": "execute_result",
          "data": {
            "text/plain": [
              "Dataset({\n",
              "    features: ['title', 'tag', 'lyrics', 'lyric_tokens'],\n",
              "    num_rows: 6613\n",
              "})"
            ]
          },
          "metadata": {},
          "execution_count": 11
        }
      ],
      "execution_count": 11
    },
    {
      "cell_type": "code",
      "source": [
        "# check our tags/genres\n",
        "set(dataset['tag'])"
      ],
      "metadata": {
        "id": "Z2RRgcI2Uapz",
        "trusted": true,
        "execution": {
          "iopub.status.busy": "2025-03-16T01:17:16.725028Z",
          "iopub.execute_input": "2025-03-16T01:17:16.725807Z",
          "iopub.status.idle": "2025-03-16T01:17:16.900819Z",
          "shell.execute_reply.started": "2025-03-16T01:17:16.725752Z",
          "shell.execute_reply": "2025-03-16T01:17:16.899845Z"
        },
        "colab": {
          "base_uri": "https://localhost:8080/"
        },
        "outputId": "22c4977c-dfa9-4c5e-84d7-91420562e4d2"
      },
      "outputs": [
        {
          "output_type": "execute_result",
          "data": {
            "text/plain": [
              "{'country', 'misc', 'pop', 'rap', 'rb', 'rock'}"
            ]
          },
          "metadata": {},
          "execution_count": 12
        }
      ],
      "execution_count": 12
    },
    {
      "cell_type": "code",
      "source": [
        "import numpy as np\n",
        "from collections import defaultdict, Counter\n",
        "from tqdm import tqdm\n",
        "\n",
        "class HMM:\n",
        "    def __init__(self, states, tag, vocab_size=10000, smoothing=1):\n",
        "        self.states = states # song sections (ex. Chorus, Intro, Hook)\n",
        "        self.tag = tag\n",
        "        self.S = len(states)\n",
        "        self.vocab_size = vocab_size\n",
        "        self.smoothing = smoothing  # laplace smoothing\n",
        "\n",
        "        # transitions: P(next_section | current_section)\n",
        "        self.transition_matrix = np.zeros((self.S, self.S))\n",
        "\n",
        "        # emission probs: P(word | section)\n",
        "        self.vocab = []\n",
        "        self.word_counts = defaultdict(lambda: defaultdict(int))  # word_counts[section][word] = count\n",
        "\n",
        "        self.T = 0  # num words in vocab (set later)\n",
        "        self.emission_probs = None  # Will be initialized in `fit()`\n",
        "\n",
        "    def fit(self, dataset):\n",
        "        transition_counts = defaultdict(lambda: defaultdict(int))\n",
        "        section_counts = defaultdict(int)\n",
        "        word_totals = defaultdict(int)\n",
        "        vocab_counter = Counter()\n",
        "\n",
        "        # calculate transition and emission counts\n",
        "        for _, song in tqdm(enumerate(dataset), total=len(dataset)):\n",
        "            if song['tag'] != self.tag:\n",
        "                continue\n",
        "\n",
        "            prev_section = None\n",
        "            for data in song['lyric_tokens']:\n",
        "                word, section = data\n",
        "                word = word.lower()\n",
        "                vocab_counter[word] += 1\n",
        "                self.word_counts[section][word] += 1\n",
        "                section_counts[section] += 1\n",
        "                word_totals[word] += 1\n",
        "\n",
        "                if prev_section is not None:\n",
        "                    transition_counts[prev_section][section] += 1  # update transition count\n",
        "                prev_section = section  # update previous\n",
        "\n",
        "        # keep most common words\n",
        "        self.vocab = [word for word, _ in vocab_counter.most_common(self.vocab_size)]\n",
        "        self.T = len(self.vocab)\n",
        "        self.emission_probs = np.zeros((self.S, self.T))  # Initialize emission matrix\n",
        "\n",
        "        section_to_idx = {s: i for i, s in enumerate(self.states)}\n",
        "        word_to_idx = {w: i for i, w in enumerate(self.vocab)}\n",
        "\n",
        "        # compute Transition Probabilities (with Laplace smoothing)\n",
        "        for _, s1 in tqdm(enumerate(self.states), total=len(self.states)):\n",
        "            total_transitions = sum(transition_counts[s1].values()) + self.S * self.smoothing\n",
        "            for s2 in self.states:\n",
        "                self.transition_matrix[section_to_idx[s1], section_to_idx[s2]] = (transition_counts[s1][s2] + self.smoothing) / total_transitions\n",
        "\n",
        "        # compute Emission Probabilities (with Laplace smoothing)\n",
        "        for _, section in tqdm(enumerate(self.states), total=len(self.states)):\n",
        "            section_idx = section_to_idx[section]\n",
        "            total_words = section_counts[section] + self.T * self.smoothing\n",
        "\n",
        "            for word in self.vocab:\n",
        "                word_idx = word_to_idx[word]\n",
        "                self.emission_probs[section_idx, word_idx] = (self.word_counts[section][word] + self.smoothing) / total_words\n",
        "\n",
        "    def viterbi_generate(self, start_section=\"Intro\", length=50, temperature=1.0):\n",
        "        generated_lyrics = []\n",
        "        section_sequence = []\n",
        "\n",
        "        section_to_idx = {s: i for i, s in enumerate(self.states)}\n",
        "        word_to_idx = {w: i for i, w in enumerate(self.vocab)}\n",
        "        idx_to_word = {i: w for w, i in word_to_idx.items()}\n",
        "        idx_to_section = {i: s for s, i in section_to_idx.items()}\n",
        "\n",
        "        # start at the given section\n",
        "        current_section = start_section\n",
        "        section_sequence.append(current_section)\n",
        "\n",
        "        # randomly sample the next word instead of greedily choosing next word to produce less predictable results\n",
        "        for _ in tqdm(range(length)):\n",
        "            section_idx = section_to_idx[current_section]\n",
        "\n",
        "            # randomly sample next word\n",
        "            word_probs = np.exp(self.emission_probs[section_idx] / temperature) / np.sum(np.exp(self.emission_probs[section_idx] / temperature)) # apply softmax with temperature to get probs\n",
        "            word_idx = np.random.choice(self.T, p=word_probs)\n",
        "            generated_lyrics.append(idx_to_word[word_idx])\n",
        "\n",
        "            # use the raw transition probabilities to sample the next section\n",
        "            next_section_probs = np.exp(self.transition_matrix[section_idx] / temperature) / np.sum(np.exp(self.transition_matrix[section_idx] / temperature))\n",
        "            next_section_idx = np.random.choice(self.S, p=next_section_probs)\n",
        "            current_section = idx_to_section[next_section_idx]\n",
        "            section_sequence.append(current_section)\n",
        "\n",
        "        return \" \".join(generated_lyrics), section_sequence\n",
        "\n",
        "    def get_log_likelihood(self, lyrics):\n",
        "        section_to_idx = {s: i for i, s in enumerate(self.states)}\n",
        "        word_to_idx = {w: i for i, w in enumerate(self.vocab)}\n",
        "\n",
        "        log_transitions = np.log(self.transition_matrix)\n",
        "        log_emissions = np.log(self.emission_probs)\n",
        "\n",
        "        L = len(lyrics)\n",
        "\n",
        "        # get initial probs\n",
        "        initial_log_probs = np.zeros(self.S)\n",
        "        for section in self.states:\n",
        "            initial_log_probs[section_to_idx[section]] = np.log((sum(self.word_counts[section].values()) + self.vocab_size) / self.vocab_size ** 2)\n",
        "\n",
        "        alpha = np.zeros((L, self.S))\n",
        "        for section in range(self.S):\n",
        "            alpha[0, section] = initial_log_probs[section] + log_emissions[section, word_to_idx[lyrics[0]]]\n",
        "\n",
        "        # use forward algorithm to calculate the log likelihood of the given lyrics\n",
        "        for word_index in range(1, L):\n",
        "            cur_word = lyrics[word_index]\n",
        "            for cur_state in range(self.S):\n",
        "                for prev_state in range(self.S):\n",
        "                    log_obs = log_emissions[cur_state, word_to_idx[cur_word]] if cur_word in self.vocab else np.log(1 / self.vocab_size)\n",
        "                    alpha[word_index, cur_state] += log_obs + np.log(self.transition_matrix[prev_state, cur_state]) + alpha[word_index - 1, prev_state]\n",
        "        #print(alpha)\n",
        "\n",
        "        return np.sum(alpha[L - 1])"
      ],
      "metadata": {
        "id": "mQSeDwh7hN84",
        "trusted": true,
        "execution": {
          "iopub.status.busy": "2025-03-16T01:17:16.901734Z",
          "iopub.execute_input": "2025-03-16T01:17:16.901977Z",
          "iopub.status.idle": "2025-03-16T01:17:16.923500Z",
          "shell.execute_reply.started": "2025-03-16T01:17:16.901953Z",
          "shell.execute_reply": "2025-03-16T01:17:16.922210Z"
        }
      },
      "outputs": [],
      "execution_count": 35
    },
    {
      "cell_type": "code",
      "source": [
        "states = [\n",
        "    \"Verse\",\n",
        "    \"Chorus\",\n",
        "    \"Refrain\",\n",
        "    \"Hook\",\n",
        "    \"Bridge\",\n",
        "    \"Breakdown\",\n",
        "    \"Intro\",\n",
        "    \"Outro\",\n",
        "    \"Skit\",\n",
        "    \"Pre-Chorus\",\n",
        "    \"Post-Chorus\",\n",
        "    \"Interlude\",\n",
        "    \"Segue\",\n",
        "    \"Instrumental\",\n",
        "    \"Instrumental Break\",\n",
        "    \"Snippet\",\n",
        "]"
      ],
      "metadata": {
        "id": "B5zeE84rbFaO",
        "trusted": true,
        "execution": {
          "iopub.status.busy": "2025-03-16T01:17:16.924492Z",
          "iopub.execute_input": "2025-03-16T01:17:16.924833Z",
          "iopub.status.idle": "2025-03-16T01:17:16.951715Z",
          "shell.execute_reply.started": "2025-03-16T01:17:16.924797Z",
          "shell.execute_reply": "2025-03-16T01:17:16.950331Z"
        }
      },
      "outputs": [],
      "execution_count": 36
    },
    {
      "cell_type": "code",
      "source": [
        "hmm_model = HMM(states, tag=\"pop\", vocab_size=500)\n",
        "hmm_model.fit(dataset)"
      ],
      "metadata": {
        "colab": {
          "base_uri": "https://localhost:8080/"
        },
        "id": "CNYMuj-8nhux",
        "outputId": "f7969d3a-490a-4945-a329-5b2a93934b28"
      },
      "execution_count": 37,
      "outputs": [
        {
          "output_type": "stream",
          "name": "stderr",
          "text": [
            "100%|██████████| 6613/6613 [00:11<00:00, 567.33it/s]\n",
            "100%|██████████| 16/16 [00:00<00:00, 30883.05it/s]\n",
            "100%|██████████| 16/16 [00:00<00:00, 2347.45it/s]\n"
          ]
        }
      ]
    },
    {
      "cell_type": "code",
      "source": [
        "# generate lyrics with viterbi\n",
        "generated_song, section_sequence = hmm_model.viterbi_generate(start_section=\"Verse\", length=100, temperature=0.25)\n",
        "\n",
        "print(\"\\n\\nGenerated Lyrics:\")\n",
        "print(generated_song)\n",
        "print(\"\\nSection Sequence:\")\n",
        "print(section_sequence)"
      ],
      "metadata": {
        "trusted": true,
        "execution": {
          "iopub.status.busy": "2025-03-16T01:17:54.341385Z",
          "iopub.execute_input": "2025-03-16T01:17:54.341810Z",
          "iopub.status.idle": "2025-03-16T01:18:01.478739Z",
          "shell.execute_reply.started": "2025-03-16T01:17:54.341775Z",
          "shell.execute_reply": "2025-03-16T01:18:01.476796Z"
        },
        "colab": {
          "base_uri": "https://localhost:8080/"
        },
        "id": "OpRz_4-_jEez",
        "outputId": "4d7344e5-1fe1-437d-bfe1-596b0a3d8ff1"
      },
      "outputs": [
        {
          "output_type": "stream",
          "name": "stderr",
          "text": [
            "100%|██████████| 100/100 [00:00<00:00, 7078.76it/s]"
          ]
        },
        {
          "output_type": "stream",
          "name": "stdout",
          "text": [
            "\n",
            "\n",
            "Generated Lyrics:\n",
            "woah were easy line gone from seems find talk be now till leave little must full or everybody ah done smile night okay until full ask chorus moon upon gonna such got change your hate or head getting how won for we shine here world somebody fuck started dead seems eyes hit free feel just past ll arms hey tried these to his his more do its going fucking thought seems my everybody call think dark beautiful will matter cause those o being air together cool blow hand he things brain behind la do other trying last thinking how tomorrow\n",
            "\n",
            "Section Sequence:\n",
            "['Verse', 'Verse', 'Verse', 'Verse', 'Pre-Chorus', 'Refrain', 'Intro', 'Intro', 'Intro', 'Intro', 'Intro', 'Instrumental Break', 'Instrumental', 'Instrumental', 'Refrain', 'Refrain', 'Segue', 'Pre-Chorus', 'Intro', 'Intro', 'Intro', 'Refrain', 'Refrain', 'Refrain', 'Verse', 'Verse', 'Verse', 'Interlude', 'Post-Chorus', 'Segue', 'Chorus', 'Chorus', 'Chorus', 'Bridge', 'Bridge', 'Bridge', 'Bridge', 'Bridge', 'Bridge', 'Outro', 'Outro', 'Outro', 'Outro', 'Instrumental', 'Instrumental', 'Instrumental', 'Snippet', 'Refrain', 'Refrain', 'Refrain', 'Refrain', 'Refrain', 'Intro', 'Intro', 'Intro', 'Intro', 'Segue', 'Verse', 'Verse', 'Snippet', 'Pre-Chorus', 'Chorus', 'Chorus', 'Segue', 'Outro', 'Chorus', 'Refrain', 'Refrain', 'Hook', 'Hook', 'Hook', 'Hook', 'Hook', 'Instrumental', 'Instrumental', 'Outro', 'Outro', 'Bridge', 'Instrumental', 'Instrumental', 'Instrumental', 'Instrumental', 'Chorus', 'Chorus', 'Chorus', 'Bridge', 'Bridge', 'Bridge', 'Bridge', 'Bridge', 'Bridge', 'Bridge', 'Bridge', 'Bridge', 'Bridge', 'Refrain', 'Refrain', 'Refrain', 'Refrain', 'Refrain', 'Chorus']\n"
          ]
        },
        {
          "output_type": "stream",
          "name": "stderr",
          "text": [
            "\n"
          ]
        }
      ],
      "execution_count": 38
    },
    {
      "cell_type": "code",
      "source": [
        "# to evaluate our models, we will use lyrics from Gotye's \"Somebody That I Used to Know\"\n",
        "test_lyrics = ['now', 'and', 'then', ',', 'i', 'think', 'of', 'all', 'the', 'times', 'you', 'screwed', 'me', 'over']\n",
        "hmm_model.get_log_likelihood(test_lyrics)"
      ],
      "metadata": {
        "trusted": true,
        "colab": {
          "base_uri": "https://localhost:8080/"
        },
        "id": "53_XzVc6jEe0",
        "outputId": "dac58a45-4d9e-45de-da98-f96baec72036"
      },
      "outputs": [
        {
          "output_type": "execute_result",
          "data": {
            "text/plain": [
              "-1.578536794109031e+18"
            ]
          },
          "metadata": {},
          "execution_count": 39
        }
      ],
      "execution_count": 39
    },
    {
      "cell_type": "code",
      "source": [
        "# to evaluate our models, we will use lyrics from Whitney Houston's \"I Wanna Dance With Somebody\"\n",
        "test_lyrics = ['i', 'wanna', 'dance', 'with', 'somebody']\n",
        "hmm_model.get_log_likelihood(test_lyrics)"
      ],
      "metadata": {
        "colab": {
          "base_uri": "https://localhost:8080/"
        },
        "id": "a4ovOQhazmyF",
        "outputId": "6277094a-a947-4de9-a5de-90a233e2eca6"
      },
      "execution_count": 40,
      "outputs": [
        {
          "output_type": "execute_result",
          "data": {
            "text/plain": [
              "-23170310.177259937"
            ]
          },
          "metadata": {},
          "execution_count": 40
        }
      ]
    },
    {
      "cell_type": "code",
      "source": [
        "# simple case to evaluate\n",
        "test_lyrics = ['i', 'love', 'you']\n",
        "hmm_model.get_log_likelihood(test_lyrics)"
      ],
      "metadata": {
        "colab": {
          "base_uri": "https://localhost:8080/"
        },
        "id": "4AZWsil6V8O0",
        "outputId": "304e703d-3a4f-44a1-f5a9-abf1d4768cff"
      },
      "execution_count": 41,
      "outputs": [
        {
          "output_type": "execute_result",
          "data": {
            "text/plain": [
              "-87293.94117342455"
            ]
          },
          "metadata": {},
          "execution_count": 41
        }
      ]
    }
  ]
}