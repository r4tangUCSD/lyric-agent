{
  "metadata": {
    "kernelspec": {
      "name": "python3",
      "display_name": "Python 3",
      "language": "python"
    },
    "language_info": {
      "name": "python",
      "version": "3.10.12",
      "mimetype": "text/x-python",
      "codemirror_mode": {
        "name": "ipython",
        "version": 3
      },
      "pygments_lexer": "ipython3",
      "nbconvert_exporter": "python",
      "file_extension": ".py"
    },
    "kaggle": {
      "accelerator": "none",
      "dataSources": [],
      "dockerImageVersionId": 30918,
      "isInternetEnabled": true,
      "language": "python",
      "sourceType": "notebook",
      "isGpuEnabled": false
    },
    "colab": {
      "provenance": [],
      "gpuType": "T4"
    },
    "widgets": {
      "application/vnd.jupyter.widget-state+json": {
        "7771f4abfa71484c9113533b5b4b46c4": {
          "model_module": "@jupyter-widgets/controls",
          "model_name": "HBoxModel",
          "model_module_version": "1.5.0",
          "state": {
            "_dom_classes": [],
            "_model_module": "@jupyter-widgets/controls",
            "_model_module_version": "1.5.0",
            "_model_name": "HBoxModel",
            "_view_count": null,
            "_view_module": "@jupyter-widgets/controls",
            "_view_module_version": "1.5.0",
            "_view_name": "HBoxView",
            "box_style": "",
            "children": [
              "IPY_MODEL_4a075a9cce134697b7e22f8b6c4808f9",
              "IPY_MODEL_71040a7af0c14d5aa38c415e5085cb90",
              "IPY_MODEL_c85990e5023249f781d341ee240a88d7"
            ],
            "layout": "IPY_MODEL_8245a012334645c98c591c3ef099d3db"
          }
        },
        "4a075a9cce134697b7e22f8b6c4808f9": {
          "model_module": "@jupyter-widgets/controls",
          "model_name": "HTMLModel",
          "model_module_version": "1.5.0",
          "state": {
            "_dom_classes": [],
            "_model_module": "@jupyter-widgets/controls",
            "_model_module_version": "1.5.0",
            "_model_name": "HTMLModel",
            "_view_count": null,
            "_view_module": "@jupyter-widgets/controls",
            "_view_module_version": "1.5.0",
            "_view_name": "HTMLView",
            "description": "",
            "description_tooltip": null,
            "layout": "IPY_MODEL_fb62a1ce728943ccab3a87e21d569021",
            "placeholder": "​",
            "style": "IPY_MODEL_dfbaa2c8768748fd91d4048b044467be",
            "value": "Loading dataset shards: 100%"
          }
        },
        "71040a7af0c14d5aa38c415e5085cb90": {
          "model_module": "@jupyter-widgets/controls",
          "model_name": "FloatProgressModel",
          "model_module_version": "1.5.0",
          "state": {
            "_dom_classes": [],
            "_model_module": "@jupyter-widgets/controls",
            "_model_module_version": "1.5.0",
            "_model_name": "FloatProgressModel",
            "_view_count": null,
            "_view_module": "@jupyter-widgets/controls",
            "_view_module_version": "1.5.0",
            "_view_name": "ProgressView",
            "bar_style": "success",
            "description": "",
            "description_tooltip": null,
            "layout": "IPY_MODEL_3e42551b52344f51a8ade7421c2a1129",
            "max": 19,
            "min": 0,
            "orientation": "horizontal",
            "style": "IPY_MODEL_8c30c02a90314e7db019f5cd6732477e",
            "value": 19
          }
        },
        "c85990e5023249f781d341ee240a88d7": {
          "model_module": "@jupyter-widgets/controls",
          "model_name": "HTMLModel",
          "model_module_version": "1.5.0",
          "state": {
            "_dom_classes": [],
            "_model_module": "@jupyter-widgets/controls",
            "_model_module_version": "1.5.0",
            "_model_name": "HTMLModel",
            "_view_count": null,
            "_view_module": "@jupyter-widgets/controls",
            "_view_module_version": "1.5.0",
            "_view_name": "HTMLView",
            "description": "",
            "description_tooltip": null,
            "layout": "IPY_MODEL_e4482836d18349c68d1db1e5c524af35",
            "placeholder": "​",
            "style": "IPY_MODEL_5f2f6ec4fda04f3a95cb677d4635b2a5",
            "value": " 19/19 [01:00&lt;00:00,  2.46s/it]"
          }
        },
        "8245a012334645c98c591c3ef099d3db": {
          "model_module": "@jupyter-widgets/base",
          "model_name": "LayoutModel",
          "model_module_version": "1.2.0",
          "state": {
            "_model_module": "@jupyter-widgets/base",
            "_model_module_version": "1.2.0",
            "_model_name": "LayoutModel",
            "_view_count": null,
            "_view_module": "@jupyter-widgets/base",
            "_view_module_version": "1.2.0",
            "_view_name": "LayoutView",
            "align_content": null,
            "align_items": null,
            "align_self": null,
            "border": null,
            "bottom": null,
            "display": null,
            "flex": null,
            "flex_flow": null,
            "grid_area": null,
            "grid_auto_columns": null,
            "grid_auto_flow": null,
            "grid_auto_rows": null,
            "grid_column": null,
            "grid_gap": null,
            "grid_row": null,
            "grid_template_areas": null,
            "grid_template_columns": null,
            "grid_template_rows": null,
            "height": null,
            "justify_content": null,
            "justify_items": null,
            "left": null,
            "margin": null,
            "max_height": null,
            "max_width": null,
            "min_height": null,
            "min_width": null,
            "object_fit": null,
            "object_position": null,
            "order": null,
            "overflow": null,
            "overflow_x": null,
            "overflow_y": null,
            "padding": null,
            "right": null,
            "top": null,
            "visibility": null,
            "width": null
          }
        },
        "fb62a1ce728943ccab3a87e21d569021": {
          "model_module": "@jupyter-widgets/base",
          "model_name": "LayoutModel",
          "model_module_version": "1.2.0",
          "state": {
            "_model_module": "@jupyter-widgets/base",
            "_model_module_version": "1.2.0",
            "_model_name": "LayoutModel",
            "_view_count": null,
            "_view_module": "@jupyter-widgets/base",
            "_view_module_version": "1.2.0",
            "_view_name": "LayoutView",
            "align_content": null,
            "align_items": null,
            "align_self": null,
            "border": null,
            "bottom": null,
            "display": null,
            "flex": null,
            "flex_flow": null,
            "grid_area": null,
            "grid_auto_columns": null,
            "grid_auto_flow": null,
            "grid_auto_rows": null,
            "grid_column": null,
            "grid_gap": null,
            "grid_row": null,
            "grid_template_areas": null,
            "grid_template_columns": null,
            "grid_template_rows": null,
            "height": null,
            "justify_content": null,
            "justify_items": null,
            "left": null,
            "margin": null,
            "max_height": null,
            "max_width": null,
            "min_height": null,
            "min_width": null,
            "object_fit": null,
            "object_position": null,
            "order": null,
            "overflow": null,
            "overflow_x": null,
            "overflow_y": null,
            "padding": null,
            "right": null,
            "top": null,
            "visibility": null,
            "width": null
          }
        },
        "dfbaa2c8768748fd91d4048b044467be": {
          "model_module": "@jupyter-widgets/controls",
          "model_name": "DescriptionStyleModel",
          "model_module_version": "1.5.0",
          "state": {
            "_model_module": "@jupyter-widgets/controls",
            "_model_module_version": "1.5.0",
            "_model_name": "DescriptionStyleModel",
            "_view_count": null,
            "_view_module": "@jupyter-widgets/base",
            "_view_module_version": "1.2.0",
            "_view_name": "StyleView",
            "description_width": ""
          }
        },
        "3e42551b52344f51a8ade7421c2a1129": {
          "model_module": "@jupyter-widgets/base",
          "model_name": "LayoutModel",
          "model_module_version": "1.2.0",
          "state": {
            "_model_module": "@jupyter-widgets/base",
            "_model_module_version": "1.2.0",
            "_model_name": "LayoutModel",
            "_view_count": null,
            "_view_module": "@jupyter-widgets/base",
            "_view_module_version": "1.2.0",
            "_view_name": "LayoutView",
            "align_content": null,
            "align_items": null,
            "align_self": null,
            "border": null,
            "bottom": null,
            "display": null,
            "flex": null,
            "flex_flow": null,
            "grid_area": null,
            "grid_auto_columns": null,
            "grid_auto_flow": null,
            "grid_auto_rows": null,
            "grid_column": null,
            "grid_gap": null,
            "grid_row": null,
            "grid_template_areas": null,
            "grid_template_columns": null,
            "grid_template_rows": null,
            "height": null,
            "justify_content": null,
            "justify_items": null,
            "left": null,
            "margin": null,
            "max_height": null,
            "max_width": null,
            "min_height": null,
            "min_width": null,
            "object_fit": null,
            "object_position": null,
            "order": null,
            "overflow": null,
            "overflow_x": null,
            "overflow_y": null,
            "padding": null,
            "right": null,
            "top": null,
            "visibility": null,
            "width": null
          }
        },
        "8c30c02a90314e7db019f5cd6732477e": {
          "model_module": "@jupyter-widgets/controls",
          "model_name": "ProgressStyleModel",
          "model_module_version": "1.5.0",
          "state": {
            "_model_module": "@jupyter-widgets/controls",
            "_model_module_version": "1.5.0",
            "_model_name": "ProgressStyleModel",
            "_view_count": null,
            "_view_module": "@jupyter-widgets/base",
            "_view_module_version": "1.2.0",
            "_view_name": "StyleView",
            "bar_color": null,
            "description_width": ""
          }
        },
        "e4482836d18349c68d1db1e5c524af35": {
          "model_module": "@jupyter-widgets/base",
          "model_name": "LayoutModel",
          "model_module_version": "1.2.0",
          "state": {
            "_model_module": "@jupyter-widgets/base",
            "_model_module_version": "1.2.0",
            "_model_name": "LayoutModel",
            "_view_count": null,
            "_view_module": "@jupyter-widgets/base",
            "_view_module_version": "1.2.0",
            "_view_name": "LayoutView",
            "align_content": null,
            "align_items": null,
            "align_self": null,
            "border": null,
            "bottom": null,
            "display": null,
            "flex": null,
            "flex_flow": null,
            "grid_area": null,
            "grid_auto_columns": null,
            "grid_auto_flow": null,
            "grid_auto_rows": null,
            "grid_column": null,
            "grid_gap": null,
            "grid_row": null,
            "grid_template_areas": null,
            "grid_template_columns": null,
            "grid_template_rows": null,
            "height": null,
            "justify_content": null,
            "justify_items": null,
            "left": null,
            "margin": null,
            "max_height": null,
            "max_width": null,
            "min_height": null,
            "min_width": null,
            "object_fit": null,
            "object_position": null,
            "order": null,
            "overflow": null,
            "overflow_x": null,
            "overflow_y": null,
            "padding": null,
            "right": null,
            "top": null,
            "visibility": null,
            "width": null
          }
        },
        "5f2f6ec4fda04f3a95cb677d4635b2a5": {
          "model_module": "@jupyter-widgets/controls",
          "model_name": "DescriptionStyleModel",
          "model_module_version": "1.5.0",
          "state": {
            "_model_module": "@jupyter-widgets/controls",
            "_model_module_version": "1.5.0",
            "_model_name": "DescriptionStyleModel",
            "_view_count": null,
            "_view_module": "@jupyter-widgets/base",
            "_view_module_version": "1.2.0",
            "_view_name": "StyleView",
            "description_width": ""
          }
        }
      }
    }
  },
  "nbformat_minor": 0,
  "nbformat": 4,
  "cells": [
    {
      "cell_type": "raw",
      "source": [
        "!git clone https://github.com/r4tangUCSD/lyric-agent.git"
      ],
      "metadata": {
        "id": "4_8HaYRPC8gd",
        "outputId": "081e85f9-818b-40e1-be7a-2655cf0fffbe",
        "execution": {
          "iopub.status.busy": "2025-02-16T22:23:37.915664Z",
          "iopub.execute_input": "2025-02-16T22:23:37.915850Z"
        }
      }
    },
    {
      "cell_type": "code",
      "source": [
        "!pip install datasets\n",
        "# !pip install ipywidgets\n",
        "!pip install tqdm\n",
        "# !pip install tensorflow"
      ],
      "metadata": {
        "id": "jBjwLa6kDA0n",
        "trusted": true,
        "execution": {
          "iopub.status.busy": "2025-03-16T00:09:15.376359Z",
          "iopub.execute_input": "2025-03-16T00:09:15.376664Z",
          "iopub.status.idle": "2025-03-16T00:09:25.062000Z",
          "shell.execute_reply.started": "2025-03-16T00:09:15.376638Z",
          "shell.execute_reply": "2025-03-16T00:09:25.060987Z"
        },
        "colab": {
          "base_uri": "https://localhost:8080/"
        },
        "outputId": "00726789-1f5e-4b4a-fb04-c9c91aa07cc9"
      },
      "outputs": [
        {
          "output_type": "stream",
          "name": "stdout",
          "text": [
            "Requirement already satisfied: datasets in /usr/local/lib/python3.11/dist-packages (3.4.0)\n",
            "Requirement already satisfied: filelock in /usr/local/lib/python3.11/dist-packages (from datasets) (3.17.0)\n",
            "Requirement already satisfied: numpy>=1.17 in /usr/local/lib/python3.11/dist-packages (from datasets) (1.26.4)\n",
            "Requirement already satisfied: pyarrow>=15.0.0 in /usr/local/lib/python3.11/dist-packages (from datasets) (18.1.0)\n",
            "Requirement already satisfied: dill<0.3.9,>=0.3.0 in /usr/local/lib/python3.11/dist-packages (from datasets) (0.3.8)\n",
            "Requirement already satisfied: pandas in /usr/local/lib/python3.11/dist-packages (from datasets) (2.2.2)\n",
            "Requirement already satisfied: requests>=2.32.2 in /usr/local/lib/python3.11/dist-packages (from datasets) (2.32.3)\n",
            "Requirement already satisfied: tqdm>=4.66.3 in /usr/local/lib/python3.11/dist-packages (from datasets) (4.67.1)\n",
            "Requirement already satisfied: xxhash in /usr/local/lib/python3.11/dist-packages (from datasets) (3.5.0)\n",
            "Requirement already satisfied: multiprocess<0.70.17 in /usr/local/lib/python3.11/dist-packages (from datasets) (0.70.16)\n",
            "Requirement already satisfied: fsspec<=2024.12.0,>=2023.1.0 in /usr/local/lib/python3.11/dist-packages (from fsspec[http]<=2024.12.0,>=2023.1.0->datasets) (2024.10.0)\n",
            "Requirement already satisfied: aiohttp in /usr/local/lib/python3.11/dist-packages (from datasets) (3.11.13)\n",
            "Requirement already satisfied: huggingface-hub>=0.24.0 in /usr/local/lib/python3.11/dist-packages (from datasets) (0.28.1)\n",
            "Requirement already satisfied: packaging in /usr/local/lib/python3.11/dist-packages (from datasets) (24.2)\n",
            "Requirement already satisfied: pyyaml>=5.1 in /usr/local/lib/python3.11/dist-packages (from datasets) (6.0.2)\n",
            "Requirement already satisfied: aiohappyeyeballs>=2.3.0 in /usr/local/lib/python3.11/dist-packages (from aiohttp->datasets) (2.6.1)\n",
            "Requirement already satisfied: aiosignal>=1.1.2 in /usr/local/lib/python3.11/dist-packages (from aiohttp->datasets) (1.3.2)\n",
            "Requirement already satisfied: attrs>=17.3.0 in /usr/local/lib/python3.11/dist-packages (from aiohttp->datasets) (25.2.0)\n",
            "Requirement already satisfied: frozenlist>=1.1.1 in /usr/local/lib/python3.11/dist-packages (from aiohttp->datasets) (1.5.0)\n",
            "Requirement already satisfied: multidict<7.0,>=4.5 in /usr/local/lib/python3.11/dist-packages (from aiohttp->datasets) (6.1.0)\n",
            "Requirement already satisfied: propcache>=0.2.0 in /usr/local/lib/python3.11/dist-packages (from aiohttp->datasets) (0.3.0)\n",
            "Requirement already satisfied: yarl<2.0,>=1.17.0 in /usr/local/lib/python3.11/dist-packages (from aiohttp->datasets) (1.18.3)\n",
            "Requirement already satisfied: typing-extensions>=3.7.4.3 in /usr/local/lib/python3.11/dist-packages (from huggingface-hub>=0.24.0->datasets) (4.12.2)\n",
            "Requirement already satisfied: charset-normalizer<4,>=2 in /usr/local/lib/python3.11/dist-packages (from requests>=2.32.2->datasets) (3.4.1)\n",
            "Requirement already satisfied: idna<4,>=2.5 in /usr/local/lib/python3.11/dist-packages (from requests>=2.32.2->datasets) (3.10)\n",
            "Requirement already satisfied: urllib3<3,>=1.21.1 in /usr/local/lib/python3.11/dist-packages (from requests>=2.32.2->datasets) (2.3.0)\n",
            "Requirement already satisfied: certifi>=2017.4.17 in /usr/local/lib/python3.11/dist-packages (from requests>=2.32.2->datasets) (2025.1.31)\n",
            "Requirement already satisfied: python-dateutil>=2.8.2 in /usr/local/lib/python3.11/dist-packages (from pandas->datasets) (2.8.2)\n",
            "Requirement already satisfied: pytz>=2020.1 in /usr/local/lib/python3.11/dist-packages (from pandas->datasets) (2025.1)\n",
            "Requirement already satisfied: tzdata>=2022.7 in /usr/local/lib/python3.11/dist-packages (from pandas->datasets) (2025.1)\n",
            "Requirement already satisfied: six>=1.5 in /usr/local/lib/python3.11/dist-packages (from python-dateutil>=2.8.2->pandas->datasets) (1.17.0)\n",
            "Requirement already satisfied: tqdm in /usr/local/lib/python3.11/dist-packages (4.67.1)\n"
          ]
        }
      ],
      "execution_count": 40
    },
    {
      "cell_type": "code",
      "source": [
        "from datasets import load_dataset\n",
        "\n",
        "dataset_raw = load_dataset(\"sebastiandizon/genius-song-lyrics\")\n",
        "#dataset = load_dataset(\"sebastiandizon/genius-song-lyrics\", split=\"train[:100000]\")"
      ],
      "metadata": {
        "colab": {
          "base_uri": "https://localhost:8080/",
          "height": 49,
          "referenced_widgets": [
            "7771f4abfa71484c9113533b5b4b46c4",
            "4a075a9cce134697b7e22f8b6c4808f9",
            "71040a7af0c14d5aa38c415e5085cb90",
            "c85990e5023249f781d341ee240a88d7",
            "8245a012334645c98c591c3ef099d3db",
            "fb62a1ce728943ccab3a87e21d569021",
            "dfbaa2c8768748fd91d4048b044467be",
            "3e42551b52344f51a8ade7421c2a1129",
            "8c30c02a90314e7db019f5cd6732477e",
            "e4482836d18349c68d1db1e5c524af35",
            "5f2f6ec4fda04f3a95cb677d4635b2a5"
          ]
        },
        "id": "HO_Y5IFgDIZa",
        "outputId": "d64bc985-2996-4c7c-e1bb-a9dad80d8002",
        "trusted": true,
        "execution": {
          "iopub.status.busy": "2025-03-16T01:05:45.942718Z",
          "iopub.execute_input": "2025-03-16T01:05:45.943057Z",
          "iopub.status.idle": "2025-03-16T01:06:06.814877Z",
          "shell.execute_reply.started": "2025-03-16T01:05:45.943031Z",
          "shell.execute_reply": "2025-03-16T01:06:06.813598Z"
        }
      },
      "outputs": [
        {
          "output_type": "display_data",
          "data": {
            "text/plain": [
              "Loading dataset shards:   0%|          | 0/19 [00:00<?, ?it/s]"
            ],
            "application/vnd.jupyter.widget-view+json": {
              "version_major": 2,
              "version_minor": 0,
              "model_id": "7771f4abfa71484c9113533b5b4b46c4"
            }
          },
          "metadata": {}
        }
      ],
      "execution_count": 41
    },
    {
      "cell_type": "code",
      "source": [
        "dataset = dataset_raw[\"train\"].shuffle(seed=42).select(range(10000))"
      ],
      "metadata": {
        "trusted": true,
        "execution": {
          "iopub.status.busy": "2025-03-16T01:16:45.696184Z",
          "iopub.execute_input": "2025-03-16T01:16:45.696672Z",
          "iopub.status.idle": "2025-03-16T01:16:45.927186Z",
          "shell.execute_reply.started": "2025-03-16T01:16:45.696636Z",
          "shell.execute_reply": "2025-03-16T01:16:45.925731Z"
        },
        "id": "I9b6mkYcTUC_"
      },
      "outputs": [],
      "execution_count": 42
    },
    {
      "cell_type": "code",
      "source": [
        "dataset"
      ],
      "metadata": {
        "colab": {
          "base_uri": "https://localhost:8080/"
        },
        "id": "VUdnODhqGXOV",
        "outputId": "8cbb2adb-3d43-4d94-937d-275d264ab050",
        "trusted": true,
        "execution": {
          "iopub.status.busy": "2025-03-16T01:16:46.364644Z",
          "iopub.execute_input": "2025-03-16T01:16:46.365085Z",
          "iopub.status.idle": "2025-03-16T01:16:46.373927Z",
          "shell.execute_reply.started": "2025-03-16T01:16:46.365047Z",
          "shell.execute_reply": "2025-03-16T01:16:46.371851Z"
        }
      },
      "outputs": [
        {
          "output_type": "execute_result",
          "data": {
            "text/plain": [
              "Dataset({\n",
              "    features: ['title', 'tag', 'artist', 'year', 'views', 'features', 'lyrics', 'id', 'language_cld3', 'language_ft', 'language'],\n",
              "    num_rows: 10000\n",
              "})"
            ]
          },
          "metadata": {},
          "execution_count": 43
        }
      ],
      "execution_count": 43
    },
    {
      "cell_type": "code",
      "source": [
        "# drop id\n",
        "dataset = dataset.remove_columns(['id'])\n",
        "#drop views\n",
        "dataset = dataset.remove_columns(['views'])"
      ],
      "metadata": {
        "id": "zCVjleTdG5cl",
        "trusted": true,
        "execution": {
          "iopub.status.busy": "2025-03-16T01:16:46.765973Z",
          "iopub.execute_input": "2025-03-16T01:16:46.766413Z",
          "iopub.status.idle": "2025-03-16T01:16:46.884082Z",
          "shell.execute_reply.started": "2025-03-16T01:16:46.766379Z",
          "shell.execute_reply": "2025-03-16T01:16:46.882878Z"
        }
      },
      "outputs": [],
      "execution_count": 44
    },
    {
      "cell_type": "code",
      "source": [
        "import multiprocessing\n",
        "num_cpus = multiprocessing.cpu_count()\n",
        "num_cpus"
      ],
      "metadata": {
        "colab": {
          "base_uri": "https://localhost:8080/"
        },
        "id": "e-uNFCB8m0bm",
        "outputId": "7bcd7b4c-a9a5-4ecf-cdad-6bf4b11fc42e",
        "trusted": true,
        "execution": {
          "iopub.status.busy": "2025-03-16T01:16:47.249659Z",
          "iopub.execute_input": "2025-03-16T01:16:47.250090Z",
          "iopub.status.idle": "2025-03-16T01:16:47.257933Z",
          "shell.execute_reply.started": "2025-03-16T01:16:47.250058Z",
          "shell.execute_reply": "2025-03-16T01:16:47.256326Z"
        }
      },
      "outputs": [
        {
          "output_type": "execute_result",
          "data": {
            "text/plain": [
              "2"
            ]
          },
          "metadata": {},
          "execution_count": 45
        }
      ],
      "execution_count": 45
    },
    {
      "cell_type": "code",
      "source": [
        "# drop non-english songs\n",
        "dataset = dataset.filter(\n",
        "    lambda song: song['language'] == 'en' and song['language_ft'] == 'en' and song['language_cld3'] == 'en',\n",
        "    num_proc = num_cpus\n",
        ")\n",
        "dataset = dataset.remove_columns(['language_cld3', 'language_ft', 'language', 'artist', 'year', 'features'])"
      ],
      "metadata": {
        "id": "N-SitOWeIECn",
        "trusted": true,
        "execution": {
          "iopub.status.busy": "2025-03-16T01:16:48.567207Z",
          "iopub.execute_input": "2025-03-16T01:16:48.568098Z",
          "iopub.status.idle": "2025-03-16T01:17:14.830840Z",
          "shell.execute_reply.started": "2025-03-16T01:16:48.568035Z",
          "shell.execute_reply": "2025-03-16T01:17:14.828341Z"
        }
      },
      "outputs": [],
      "execution_count": 46
    },
    {
      "cell_type": "code",
      "source": [
        "# see how many observations/rows in dataset along with our features\n",
        "dataset"
      ],
      "metadata": {
        "id": "-7dHAr3EIBl_",
        "trusted": true,
        "execution": {
          "iopub.status.busy": "2025-03-16T01:17:14.833495Z",
          "iopub.execute_input": "2025-03-16T01:17:14.833982Z",
          "iopub.status.idle": "2025-03-16T01:17:14.840711Z",
          "shell.execute_reply.started": "2025-03-16T01:17:14.833946Z",
          "shell.execute_reply": "2025-03-16T01:17:14.839641Z"
        },
        "colab": {
          "base_uri": "https://localhost:8080/"
        },
        "outputId": "f0f51b04-fa0d-42ed-87aa-d86f628bcde7"
      },
      "outputs": [
        {
          "output_type": "execute_result",
          "data": {
            "text/plain": [
              "Dataset({\n",
              "    features: ['title', 'tag', 'lyrics'],\n",
              "    num_rows: 6613\n",
              "})"
            ]
          },
          "metadata": {},
          "execution_count": 47
        }
      ],
      "execution_count": 47
    },
    {
      "cell_type": "code",
      "source": [
        "import re\n",
        "\n",
        "def generate_tokens(batch):\n",
        "    tokenized_lyrics = []\n",
        "    for lyrics in batch[\"lyrics\"]:\n",
        "        tokens = re.findall(r\"[\\w']+|[.,!?;(){}\\[\\]]\", lyrics) # tokenize by word and punctuation\n",
        "        section = \"N/A\"\n",
        "        sectioned_tokens = []  # stores (word, section) pairs\n",
        "\n",
        "        for token_idx, token in enumerate(tokens):\n",
        "            if token == \"[\":\n",
        "                section = tokens[token_idx + 1]\n",
        "            sectioned_tokens.append((token.lower(), section))\n",
        "        tokenized_lyrics.append(sectioned_tokens)\n",
        "\n",
        "    return {\"lyric_tokens\": tokenized_lyrics}\n",
        "\n",
        "dataset = dataset.map(generate_tokens, batched=True, num_proc=num_cpus)"
      ],
      "metadata": {
        "id": "AyoZVW_0YB7U",
        "trusted": true,
        "execution": {
          "iopub.status.busy": "2025-03-16T01:17:14.842387Z",
          "iopub.execute_input": "2025-03-16T01:17:14.842644Z",
          "iopub.status.idle": "2025-03-16T01:17:16.710927Z",
          "shell.execute_reply.started": "2025-03-16T01:17:14.842615Z",
          "shell.execute_reply": "2025-03-16T01:17:16.708988Z"
        }
      },
      "outputs": [],
      "execution_count": 48
    },
    {
      "cell_type": "code",
      "source": [
        "dataset"
      ],
      "metadata": {
        "trusted": true,
        "execution": {
          "iopub.status.busy": "2025-03-16T01:17:16.713192Z",
          "iopub.execute_input": "2025-03-16T01:17:16.713614Z",
          "iopub.status.idle": "2025-03-16T01:17:16.722643Z",
          "shell.execute_reply.started": "2025-03-16T01:17:16.713580Z",
          "shell.execute_reply": "2025-03-16T01:17:16.720390Z"
        },
        "colab": {
          "base_uri": "https://localhost:8080/"
        },
        "id": "8_Pu5R1cTUDM",
        "outputId": "be910bf6-39ba-42df-de3c-b2e5ea24e7a3"
      },
      "outputs": [
        {
          "output_type": "execute_result",
          "data": {
            "text/plain": [
              "Dataset({\n",
              "    features: ['title', 'tag', 'lyrics', 'lyric_tokens'],\n",
              "    num_rows: 6613\n",
              "})"
            ]
          },
          "metadata": {},
          "execution_count": 49
        }
      ],
      "execution_count": 49
    },
    {
      "cell_type": "code",
      "source": [
        "dataset[\"lyric_tokens\"][0]"
      ],
      "metadata": {
        "colab": {
          "base_uri": "https://localhost:8080/"
        },
        "id": "c5KTaqSvHMiV",
        "outputId": "22630221-6e3c-42dc-e092-b994391d0249"
      },
      "execution_count": 50,
      "outputs": [
        {
          "output_type": "execute_result",
          "data": {
            "text/plain": [
              "[['[', 'Intro'],\n",
              " ['intro', 'Intro'],\n",
              " [']', 'Intro'],\n",
              " ['bitch', 'Intro'],\n",
              " [\"i'm\", 'Intro'],\n",
              " ['clean', 'Intro'],\n",
              " ['two', 'Intro'],\n",
              " ['sticks', 'Intro'],\n",
              " ['like', 'Intro'],\n",
              " ['chow', 'Intro'],\n",
              " ['mein', 'Intro'],\n",
              " ['two', 'Intro'],\n",
              " ['sticks', 'Intro'],\n",
              " ['like', 'Intro'],\n",
              " ['chow', 'Intro'],\n",
              " ['mein', 'Intro'],\n",
              " ['bitch', 'Intro'],\n",
              " [\"i'm\", 'Intro'],\n",
              " ['clean', 'Intro'],\n",
              " ['two', 'Intro'],\n",
              " ['sticks', 'Intro'],\n",
              " ['like', 'Intro'],\n",
              " ['chow', 'Intro'],\n",
              " ['mein', 'Intro'],\n",
              " ['two', 'Intro'],\n",
              " ['sticks', 'Intro'],\n",
              " ['like', 'Intro'],\n",
              " ['chow', 'Intro'],\n",
              " ['mein', 'Intro'],\n",
              " ['two', 'Intro'],\n",
              " ['sticks', 'Intro'],\n",
              " ['like', 'Intro'],\n",
              " ['chow', 'Intro'],\n",
              " ['mein', 'Intro'],\n",
              " ['[', 'Hook'],\n",
              " ['hook', 'Hook'],\n",
              " [']', 'Hook'],\n",
              " ['bitch', 'Hook'],\n",
              " [\"i'm\", 'Hook'],\n",
              " ['clean', 'Hook'],\n",
              " ['two', 'Hook'],\n",
              " ['sticks', 'Hook'],\n",
              " ['like', 'Hook'],\n",
              " ['chow', 'Hook'],\n",
              " ['mein', 'Hook'],\n",
              " ['two', 'Hook'],\n",
              " ['sticks', 'Hook'],\n",
              " ['like', 'Hook'],\n",
              " ['chow', 'Hook'],\n",
              " ['mein', 'Hook'],\n",
              " ['two', 'Hook'],\n",
              " ['sticks', 'Hook'],\n",
              " ['like', 'Hook'],\n",
              " ['chow', 'Hook'],\n",
              " ['mein', 'Hook'],\n",
              " ['aye', 'Hook'],\n",
              " [',', 'Hook'],\n",
              " ['in', 'Hook'],\n",
              " ['her', 'Hook'],\n",
              " ['dreams', 'Hook'],\n",
              " ['two', 'Hook'],\n",
              " [\"p's\", 'Hook'],\n",
              " ['like', 'Hook'],\n",
              " ['propane', 'Hook'],\n",
              " ['pull', 'Hook'],\n",
              " ['up', 'Hook'],\n",
              " ['park', 'Hook'],\n",
              " ['your', 'Hook'],\n",
              " [\"thang'\", 'Hook'],\n",
              " ['might', 'Hook'],\n",
              " ['just', 'Hook'],\n",
              " ['be', 'Hook'],\n",
              " ['a', 'Hook'],\n",
              " ['range', 'Hook'],\n",
              " ['bitch', 'Hook'],\n",
              " [\"i'm\", 'Hook'],\n",
              " ['clean', 'Hook'],\n",
              " ['two', 'Hook'],\n",
              " ['sticks', 'Hook'],\n",
              " ['like', 'Hook'],\n",
              " ['chow', 'Hook'],\n",
              " ['mein', 'Hook'],\n",
              " ['two', 'Hook'],\n",
              " ['sticks', 'Hook'],\n",
              " ['like', 'Hook'],\n",
              " ['chow', 'Hook'],\n",
              " ['mein', 'Hook'],\n",
              " ['two', 'Hook'],\n",
              " ['sticks', 'Hook'],\n",
              " ['like', 'Hook'],\n",
              " ['chow', 'Hook'],\n",
              " ['mein', 'Hook'],\n",
              " ['aye', 'Hook'],\n",
              " [',', 'Hook'],\n",
              " ['in', 'Hook'],\n",
              " ['her', 'Hook'],\n",
              " ['dreams', 'Hook'],\n",
              " ['two', 'Hook'],\n",
              " [\"p's\", 'Hook'],\n",
              " ['like', 'Hook'],\n",
              " ['propane', 'Hook'],\n",
              " ['pull', 'Hook'],\n",
              " ['up', 'Hook'],\n",
              " ['park', 'Hook'],\n",
              " ['your', 'Hook'],\n",
              " [\"thang'\", 'Hook'],\n",
              " ['might', 'Hook'],\n",
              " ['just', 'Hook'],\n",
              " ['be', 'Hook'],\n",
              " ['a', 'Hook'],\n",
              " ['range', 'Hook'],\n",
              " ['[', 'Intrlude'],\n",
              " ['intrlude', 'Intrlude'],\n",
              " [']', 'Intrlude'],\n",
              " ['pull', 'Intrlude'],\n",
              " ['up', 'Intrlude'],\n",
              " ['and', 'Intrlude'],\n",
              " ['she', 'Intrlude'],\n",
              " ['give', 'Intrlude'],\n",
              " ['me', 'Intrlude'],\n",
              " ['the', 'Intrlude'],\n",
              " ['bands', 'Intrlude'],\n",
              " ['pull', 'Intrlude'],\n",
              " ['up', 'Intrlude'],\n",
              " ['and', 'Intrlude'],\n",
              " ['she', 'Intrlude'],\n",
              " ['give', 'Intrlude'],\n",
              " ['me', 'Intrlude'],\n",
              " ['the', 'Intrlude'],\n",
              " ['bands', 'Intrlude'],\n",
              " ['pull', 'Intrlude'],\n",
              " ['up', 'Intrlude'],\n",
              " ['and', 'Intrlude'],\n",
              " ['she', 'Intrlude'],\n",
              " ['give', 'Intrlude'],\n",
              " ['me', 'Intrlude'],\n",
              " ['the', 'Intrlude'],\n",
              " ['bands', 'Intrlude'],\n",
              " ['pull', 'Intrlude'],\n",
              " ['up', 'Intrlude'],\n",
              " ['and', 'Intrlude'],\n",
              " ['she', 'Intrlude'],\n",
              " ['give', 'Intrlude'],\n",
              " ['me', 'Intrlude'],\n",
              " ['the', 'Intrlude'],\n",
              " ['bands', 'Intrlude'],\n",
              " ['pull', 'Intrlude'],\n",
              " ['up', 'Intrlude'],\n",
              " ['and', 'Intrlude'],\n",
              " ['she', 'Intrlude'],\n",
              " ['give', 'Intrlude'],\n",
              " ['me', 'Intrlude'],\n",
              " ['the', 'Intrlude'],\n",
              " ['bands', 'Intrlude'],\n",
              " ['pull', 'Intrlude'],\n",
              " ['up', 'Intrlude'],\n",
              " ['and', 'Intrlude'],\n",
              " ['she', 'Intrlude'],\n",
              " ['give', 'Intrlude'],\n",
              " ['me', 'Intrlude'],\n",
              " ['the', 'Intrlude'],\n",
              " ['bands', 'Intrlude'],\n",
              " ['pull', 'Intrlude'],\n",
              " ['up', 'Intrlude'],\n",
              " ['and', 'Intrlude'],\n",
              " ['she', 'Intrlude'],\n",
              " ['give', 'Intrlude'],\n",
              " ['me', 'Intrlude'],\n",
              " ['the', 'Intrlude'],\n",
              " ['bands', 'Intrlude'],\n",
              " ['pull', 'Intrlude'],\n",
              " ['up', 'Intrlude'],\n",
              " ['and', 'Intrlude'],\n",
              " ['she', 'Intrlude'],\n",
              " ['give', 'Intrlude'],\n",
              " ['me', 'Intrlude'],\n",
              " ['the', 'Intrlude'],\n",
              " ['bands', 'Intrlude'],\n",
              " ['[', 'Verse'],\n",
              " ['verse', 'Verse'],\n",
              " [']', 'Verse'],\n",
              " ['i', 'Verse'],\n",
              " ['run', 'Verse'],\n",
              " ['up', 'Verse'],\n",
              " ['a', 'Verse'],\n",
              " ['check', 'Verse'],\n",
              " [\"i'm\", 'Verse'],\n",
              " ['so', 'Verse'],\n",
              " ['fast', 'Verse'],\n",
              " ['you', 'Verse'],\n",
              " ['niggas', 'Verse'],\n",
              " ['behind', 'Verse'],\n",
              " ['me', 'Verse'],\n",
              " ['they', 'Verse'],\n",
              " ['last', 'Verse'],\n",
              " ['lame', 'Verse'],\n",
              " ['nigga', 'Verse'],\n",
              " ['hella', 'Verse'],\n",
              " ['mad', 'Verse'],\n",
              " [\"cuz'\", 'Verse'],\n",
              " ['his', 'Verse'],\n",
              " ['hoe', 'Verse'],\n",
              " ['just', 'Verse'],\n",
              " ['brought', 'Verse'],\n",
              " ['me', 'Verse'],\n",
              " ['the', 'Verse'],\n",
              " ['bands', 'Verse'],\n",
              " ['fuck', 'Verse'],\n",
              " ['up', 'Verse'],\n",
              " ['i', 'Verse'],\n",
              " ['run', 'Verse'],\n",
              " ['it', 'Verse'],\n",
              " ['so', 'Verse'],\n",
              " ['fast', 'Verse'],\n",
              " ['the', 'Verse'],\n",
              " ['racks', 'Verse'],\n",
              " [\"i'm\", 'Verse'],\n",
              " [\"poppin'\", 'Verse'],\n",
              " ['the', 'Verse'],\n",
              " ['tags', 'Verse'],\n",
              " ['pull', 'Verse'],\n",
              " ['up', 'Verse'],\n",
              " ['and', 'Verse'],\n",
              " ['she', 'Verse'],\n",
              " ['give', 'Verse'],\n",
              " ['me', 'Verse'],\n",
              " ['the', 'Verse'],\n",
              " ['bands', 'Verse'],\n",
              " ['pull', 'Verse'],\n",
              " ['up', 'Verse'],\n",
              " ['and', 'Verse'],\n",
              " ['she', 'Verse'],\n",
              " ['give', 'Verse'],\n",
              " ['me', 'Verse'],\n",
              " ['the', 'Verse'],\n",
              " ['bands', 'Verse'],\n",
              " ['[', 'Hook'],\n",
              " ['hook', 'Hook'],\n",
              " [']', 'Hook'],\n",
              " ['bitch', 'Hook'],\n",
              " [\"i'm\", 'Hook'],\n",
              " ['clean', 'Hook'],\n",
              " ['two', 'Hook'],\n",
              " ['sticks', 'Hook'],\n",
              " ['like', 'Hook'],\n",
              " ['chow', 'Hook'],\n",
              " ['mein', 'Hook'],\n",
              " ['two', 'Hook'],\n",
              " ['sticks', 'Hook'],\n",
              " ['like', 'Hook'],\n",
              " ['chow', 'Hook'],\n",
              " ['mein', 'Hook'],\n",
              " ['two', 'Hook'],\n",
              " ['sticks', 'Hook'],\n",
              " ['like', 'Hook'],\n",
              " ['chow', 'Hook'],\n",
              " ['mein', 'Hook'],\n",
              " ['aye', 'Hook'],\n",
              " [',', 'Hook'],\n",
              " ['in', 'Hook'],\n",
              " ['her', 'Hook'],\n",
              " ['dreams', 'Hook'],\n",
              " ['two', 'Hook'],\n",
              " [\"p's\", 'Hook'],\n",
              " ['like', 'Hook'],\n",
              " ['propane', 'Hook'],\n",
              " ['pull', 'Hook'],\n",
              " ['up', 'Hook'],\n",
              " ['park', 'Hook'],\n",
              " ['your', 'Hook'],\n",
              " [\"thang'\", 'Hook'],\n",
              " ['might', 'Hook'],\n",
              " ['just', 'Hook'],\n",
              " ['be', 'Hook'],\n",
              " ['a', 'Hook'],\n",
              " ['range', 'Hook'],\n",
              " ['bitch', 'Hook'],\n",
              " [\"i'm\", 'Hook'],\n",
              " ['clean', 'Hook'],\n",
              " ['two', 'Hook'],\n",
              " ['sticks', 'Hook'],\n",
              " ['like', 'Hook'],\n",
              " ['chow', 'Hook'],\n",
              " ['mein', 'Hook'],\n",
              " ['two', 'Hook'],\n",
              " ['sticks', 'Hook'],\n",
              " ['like', 'Hook'],\n",
              " ['chow', 'Hook'],\n",
              " ['mein', 'Hook'],\n",
              " ['two', 'Hook'],\n",
              " ['sticks', 'Hook'],\n",
              " ['like', 'Hook'],\n",
              " ['chow', 'Hook'],\n",
              " ['mein', 'Hook'],\n",
              " ['aye', 'Hook'],\n",
              " [',', 'Hook'],\n",
              " ['in', 'Hook'],\n",
              " ['her', 'Hook'],\n",
              " ['dreams', 'Hook'],\n",
              " ['two', 'Hook'],\n",
              " [\"p's\", 'Hook'],\n",
              " ['like', 'Hook'],\n",
              " ['propane', 'Hook'],\n",
              " ['pull', 'Hook'],\n",
              " ['up', 'Hook'],\n",
              " ['park', 'Hook'],\n",
              " ['your', 'Hook'],\n",
              " [\"thang'\", 'Hook'],\n",
              " ['might', 'Hook'],\n",
              " ['just', 'Hook'],\n",
              " ['be', 'Hook'],\n",
              " ['a', 'Hook'],\n",
              " ['range', 'Hook']]"
            ]
          },
          "metadata": {},
          "execution_count": 50
        }
      ]
    },
    {
      "cell_type": "code",
      "source": [
        "# check our tags/genres\n",
        "set(dataset['tag'])"
      ],
      "metadata": {
        "id": "Z2RRgcI2Uapz",
        "trusted": true,
        "execution": {
          "iopub.status.busy": "2025-03-16T01:17:16.725028Z",
          "iopub.execute_input": "2025-03-16T01:17:16.725807Z",
          "iopub.status.idle": "2025-03-16T01:17:16.900819Z",
          "shell.execute_reply.started": "2025-03-16T01:17:16.725752Z",
          "shell.execute_reply": "2025-03-16T01:17:16.899845Z"
        },
        "colab": {
          "base_uri": "https://localhost:8080/"
        },
        "outputId": "c45f03e9-dd66-4b65-86e6-eb58365f3363"
      },
      "outputs": [
        {
          "output_type": "execute_result",
          "data": {
            "text/plain": [
              "{'country', 'misc', 'pop', 'rap', 'rb', 'rock'}"
            ]
          },
          "metadata": {},
          "execution_count": 51
        }
      ],
      "execution_count": 51
    },
    {
      "cell_type": "code",
      "source": [
        "import numpy as np\n",
        "from collections import defaultdict, Counter, deque\n",
        "from tqdm import tqdm\n",
        "import itertools\n",
        "\n",
        "class NGramHMM:\n",
        "    START_TOKEN = \"<START>\"\n",
        "    STOP_TOKEN = \"<STOP>\" # don't worry about stop tokens for now\n",
        "    UNK_TOKEN = \"<UNK>\"\n",
        "\n",
        "    def __init__(self, states, tag, word_n, section_n, vocab_size=10000, smoothing=1):\n",
        "        self.tag = tag\n",
        "        self.word_n = word_n\n",
        "        self.section_n = section_n\n",
        "\n",
        "        self.vocab_size = vocab_size\n",
        "        self.vocab = []\n",
        "        self.smoothing = smoothing  # laplace smoothing\n",
        "        self.word_ngram_counts = defaultdict(lambda: defaultdict(lambda: defaultdict(int))) # word_ngram_counts[section][prev word_n - 1 words as list][word]\n",
        "        self.section_ngram_counts = defaultdict(lambda: defaultdict(int)) # section_ngram_counts[prev section_n - 1 sections][section]\n",
        "\n",
        "        self.states = states # song sections (ex. Chorus, Intro, Hook)\n",
        "        self.S = len(states)\n",
        "        self.T = vocab_size  # num words in vocab (set later)\n",
        "        self.initial_probs = defaultdict(int)\n",
        "\n",
        "    def fit(self, dataset):\n",
        "        vocab_counter = Counter()\n",
        "        songs_in_tag = []\n",
        "        for _, song in tqdm(enumerate(dataset), total=len(dataset)):\n",
        "            if song[\"tag\"] != self.tag:\n",
        "                continue\n",
        "\n",
        "            songs_in_tag.append(song[\"lyric_tokens\"])\n",
        "            first_section = \"\"\n",
        "            for token, section in song[\"lyric_tokens\"]:\n",
        "                if first_section == \"\":\n",
        "                    self.initial_probs[section] += 1\n",
        "                    first_section = section\n",
        "                vocab_counter[token] += 1\n",
        "\n",
        "        # handle initial probs\n",
        "        for section in self.states:\n",
        "            self.initial_probs[section] = (self.initial_probs[section] + self.smoothing) / (len(songs_in_tag) + self.smoothing * len(songs_in_tag))\n",
        "\n",
        "        # get vocab - all words with count < vocab_size are converted to UNK_TOKEN\n",
        "        self.vocab.append(self.UNK_TOKEN)\n",
        "        for word, count in vocab_counter.most_common(self.vocab_size):\n",
        "            self.vocab.append(word)\n",
        "\n",
        "        # add START_TOKEN and STOP_TOKEN to vocab\n",
        "        self.vocab.append(self.START_TOKEN)\n",
        "        self.vocab.append(self.STOP_TOKEN)\n",
        "\n",
        "        # populate our ngram counts\n",
        "        word_ngram = deque([self.START_TOKEN] * (self.word_n - 1))\n",
        "        section_ngram = deque([self.START_TOKEN] * (self.section_n - 1))\n",
        "        for _, song in tqdm(enumerate(songs_in_tag), total=len(songs_in_tag)):\n",
        "            #print(_)\n",
        "            #print(song)\n",
        "            for token, section in song:\n",
        "                self.word_ngram_counts[section][str(list(word_ngram))][token] += 1\n",
        "                self.section_ngram_counts[str(list(section_ngram))][section] += 1\n",
        "                word_ngram.append(token if token in self.vocab else self.UNK_TOKEN)\n",
        "                section_ngram.append(section)\n",
        "                word_ngram.popleft()\n",
        "                section_ngram.popleft()\n",
        "\n",
        "    # use for transitions\n",
        "    def get_section_probs(self, section_ngram, section):\n",
        "        prior = str(list(section_ngram))\n",
        "        prior_count = sum(self.section_ngram_counts[prior].values())\n",
        "        return (self.section_ngram_counts[prior][section] + self.smoothing) / (prior_count + self.smoothing * self.S) # apply laplace smoothing\n",
        "\n",
        "    # use for emissions\n",
        "    def get_word_probs(self, word_ngram, word, section):\n",
        "        prior = str(list(word_ngram))\n",
        "        prior_count = sum(sum(self.word_ngram_counts[sec][prior].values()) for sec in self.states) # marginalize over section since our prior should just be the prev n - 1 words\n",
        "        return (self.word_ngram_counts[section][prior][word] + self.smoothing) / (prior_count + self.smoothing * self.T)\n",
        "\n",
        "    def get_log_likelihood(self, lyrics):\n",
        "        L = len(lyrics)\n",
        "        alpha = np.zeros((L, self.S))\n",
        "        word_ngram = deque([self.START_TOKEN] * (self.word_n - 1))\n",
        "\n",
        "        # get initial alpha\n",
        "        for section_idx in range(self.S):\n",
        "            alpha[0, section_idx] = np.log(self.initial_probs[self.states[section_idx]]) + np.log(self.get_word_probs(word_ngram, lyrics[0], self.states[section_idx]))\n",
        "            word_ngram.append(lyrics[0])\n",
        "            word_ngram.popleft()\n",
        "\n",
        "        # use forward algorithm to calculate the log likelihood of the given lyrics\n",
        "        for lyrics_idx in tqdm(range(1, L)):\n",
        "            cur_word = lyrics[lyrics_idx]\n",
        "            for cur_state_idx, cur_state in enumerate(self.states):\n",
        "                log_obs = np.log(self.get_word_probs(word_ngram, cur_word, cur_state))\n",
        "                tot = -np.inf\n",
        "                for prev_states in itertools.product(range(self.S), repeat=self.section_n-1):\n",
        "                    prev_sections = [self.states[state] for state in prev_states]\n",
        "                    log_transition = self.get_section_probs(prev_sections, cur_state)\n",
        "                    tot = np.logaddexp(tot, log_transition + alpha[lyrics_idx - 1, prev_states[-1]])\n",
        "                alpha[lyrics_idx, cur_state_idx] = tot + log_obs\n",
        "            word_ngram.append(cur_word)\n",
        "            word_ngram.popleft()\n",
        "        #print(alpha)\n",
        "\n",
        "        ll = np.sum(alpha[L - 1])\n",
        "        return ll\n",
        "\n",
        "    def generate(self, starter, start_section=\"Intro\", length=50):\n",
        "        generated_lyrics = starter\n",
        "        section_sequence = [start_section] * len(starter)\n",
        "\n",
        "        word_ngram = deque([self.START_TOKEN] * (self.word_n - 1))\n",
        "        for i in range(len(starter)):\n",
        "            word_ngram.append(starter[i] if starter[i] in self.vocab else self.UNK_TOKEN)\n",
        "            word_ngram.popleft()\n",
        "        #print(word_ngram)\n",
        "\n",
        "        for _ in tqdm(range(length)):\n",
        "            # greedily choose next word with highest probability ngram\n",
        "            next_word = \"\"\n",
        "            next_word_prob = 0.0\n",
        "            next_section = section_sequence[-1]\n",
        "            for word in self.vocab:\n",
        "                if word == self.START_TOKEN or word == self.UNK_TOKEN or word == self.STOP_TOKEN:\n",
        "                    continue\n",
        "                for section in self.states:\n",
        "                  prob = self.get_word_probs(word_ngram, word, section)\n",
        "                  if next_word_prob < prob:\n",
        "                      next_word_prob = prob\n",
        "                      next_word = word\n",
        "                      next_section = section\n",
        "\n",
        "            generated_lyrics.append(next_word)\n",
        "            section_sequence.append(next_section)\n",
        "\n",
        "            #print(word_ngram)\n",
        "            word_ngram.append(next_word)\n",
        "            word_ngram.popleft()\n",
        "\n",
        "        return \" \".join(generated_lyrics), section_sequence\n",
        ""
      ],
      "metadata": {
        "id": "mQSeDwh7hN84",
        "trusted": true,
        "execution": {
          "iopub.status.busy": "2025-03-16T01:17:16.901734Z",
          "iopub.execute_input": "2025-03-16T01:17:16.901977Z",
          "iopub.status.idle": "2025-03-16T01:17:16.923500Z",
          "shell.execute_reply.started": "2025-03-16T01:17:16.901953Z",
          "shell.execute_reply": "2025-03-16T01:17:16.922210Z"
        }
      },
      "outputs": [],
      "execution_count": 52
    },
    {
      "cell_type": "code",
      "source": [
        "states = [\n",
        "    \"Verse\",\n",
        "    \"Chorus\",\n",
        "    \"Refrain\",\n",
        "    \"Hook\",\n",
        "    \"Bridge\",\n",
        "    \"Breakdown\",\n",
        "    \"Intro\",\n",
        "    \"Outro\",\n",
        "    \"Skit\",\n",
        "    \"Pre-Chorus\",\n",
        "    \"Post-Chorus\",\n",
        "    \"Interlude\",\n",
        "    \"Segue\",\n",
        "    \"Instrumental\",\n",
        "    \"Instrumental Break\",\n",
        "    \"Snippet\",\n",
        "]"
      ],
      "metadata": {
        "id": "B5zeE84rbFaO",
        "trusted": true,
        "execution": {
          "iopub.status.busy": "2025-03-16T01:17:16.924492Z",
          "iopub.execute_input": "2025-03-16T01:17:16.924833Z",
          "iopub.status.idle": "2025-03-16T01:17:16.951715Z",
          "shell.execute_reply.started": "2025-03-16T01:17:16.924797Z",
          "shell.execute_reply": "2025-03-16T01:17:16.950331Z"
        }
      },
      "outputs": [],
      "execution_count": 53
    },
    {
      "cell_type": "code",
      "source": [
        "hmm_model = NGramHMM(states, tag=\"rap\", word_n=3, section_n=3, vocab_size=500)\n",
        "hmm_model.fit(dataset)"
      ],
      "metadata": {
        "colab": {
          "base_uri": "https://localhost:8080/"
        },
        "id": "CNYMuj-8nhux",
        "outputId": "f4ad1f1a-58a9-4bab-a88e-fbd8b5a0c9cc"
      },
      "execution_count": 54,
      "outputs": [
        {
          "output_type": "stream",
          "name": "stderr",
          "text": [
            "100%|██████████| 6613/6613 [00:14<00:00, 450.96it/s]\n",
            "100%|██████████| 1898/1898 [00:06<00:00, 305.88it/s]\n"
          ]
        }
      ]
    },
    {
      "cell_type": "code",
      "source": [
        "starter = [\"[\", \"Intro\", \"]\", \"I\", \"see\", \"dead\", \"people\"]\n",
        "generated_song, section_sequence = hmm_model.generate(starter=starter, start_section=\"Intro\", length=30)\n",
        "\n",
        "print(\"\\n\\nGenerated Lyrics:\")\n",
        "print(generated_song)\n",
        "print(\"\\nSection Sequence:\")\n",
        "print(section_sequence)"
      ],
      "metadata": {
        "trusted": true,
        "execution": {
          "iopub.status.busy": "2025-03-16T01:17:54.341385Z",
          "iopub.execute_input": "2025-03-16T01:17:54.341810Z",
          "iopub.status.idle": "2025-03-16T01:18:01.478739Z",
          "shell.execute_reply.started": "2025-03-16T01:17:54.341775Z",
          "shell.execute_reply": "2025-03-16T01:18:01.476796Z"
        },
        "colab": {
          "base_uri": "https://localhost:8080/"
        },
        "id": "OpRz_4-_jEez",
        "outputId": "8308d0d7-d9fc-458f-9fb3-002b36f07f43"
      },
      "outputs": [
        {
          "output_type": "stream",
          "name": "stderr",
          "text": [
            "100%|██████████| 30/30 [00:33<00:00,  1.12s/it]"
          ]
        },
        {
          "output_type": "stream",
          "name": "stdout",
          "text": [
            "\n",
            "\n",
            "Generated Lyrics:\n",
            "[ Intro ] I see dead people , you know i got a lot of shit , i don't know what i'm gon' do , all they gotta do , all they gotta do , all they\n",
            "\n",
            "Section Sequence:\n",
            "['Intro', 'Intro', 'Intro', 'Intro', 'Intro', 'Intro', 'Intro', 'Verse', 'Verse', 'Verse', 'Verse', 'Verse', 'Verse', 'Verse', 'Verse', 'Verse', 'Chorus', 'Verse', 'Verse', 'Verse', 'Verse', 'Chorus', 'Chorus', 'Chorus', 'Chorus', 'Chorus', 'Chorus', 'Chorus', 'Chorus', 'Chorus', 'Chorus', 'Chorus', 'Chorus', 'Chorus', 'Chorus', 'Chorus', 'Chorus']\n"
          ]
        },
        {
          "output_type": "stream",
          "name": "stderr",
          "text": [
            "\n"
          ]
        }
      ],
      "execution_count": 60
    },
    {
      "cell_type": "code",
      "source": [
        "# to evaluate our models, we will use lyrics from Gotye's \"Somebody That I Used to Know\"\n",
        "test_lyrics = ['now', 'and', 'then', ',', 'i', 'think', 'of', 'all', 'the', 'times', 'you', 'screwed', 'me', 'over']\n",
        "hmm_model.get_log_likelihood(test_lyrics)"
      ],
      "metadata": {
        "trusted": true,
        "colab": {
          "base_uri": "https://localhost:8080/"
        },
        "id": "53_XzVc6jEe0",
        "outputId": "9b4e2047-f27f-4fb5-88e8-35936df94854"
      },
      "outputs": [
        {
          "output_type": "stream",
          "name": "stderr",
          "text": [
            "100%|██████████| 13/13 [00:00<00:00, 36.84it/s]\n"
          ]
        },
        {
          "output_type": "execute_result",
          "data": {
            "text/plain": [
              "-294.0936759782753"
            ]
          },
          "metadata": {},
          "execution_count": 56
        }
      ],
      "execution_count": 56
    },
    {
      "cell_type": "code",
      "source": [
        "# to evaluate our models, we will use lyrics from Whitney Houston's \"I Wanna Dance With Somebody\"\n",
        "test_lyrics = ['i', 'wanna', 'dance', 'with', 'somebody']\n",
        "hmm_model.get_log_likelihood(test_lyrics)"
      ],
      "metadata": {
        "colab": {
          "base_uri": "https://localhost:8080/"
        },
        "id": "a4ovOQhazmyF",
        "outputId": "e5a8691f-cc37-4a69-824b-efda32b789ca"
      },
      "execution_count": 57,
      "outputs": [
        {
          "output_type": "stream",
          "name": "stderr",
          "text": [
            "100%|██████████| 4/4 [00:00<00:00, 37.78it/s]\n"
          ]
        },
        {
          "output_type": "execute_result",
          "data": {
            "text/plain": [
              "-188.23050060350891"
            ]
          },
          "metadata": {},
          "execution_count": 57
        }
      ]
    },
    {
      "cell_type": "code",
      "source": [
        "# simple case to evaluate\n",
        "test_lyrics = ['i', 'love', 'you']\n",
        "hmm_model.get_log_likelihood(test_lyrics)"
      ],
      "metadata": {
        "colab": {
          "base_uri": "https://localhost:8080/"
        },
        "id": "4AZWsil6V8O0",
        "outputId": "16432f2f-b0f2-4121-9dd1-e651ff635e9f"
      },
      "execution_count": 58,
      "outputs": [
        {
          "output_type": "stream",
          "name": "stderr",
          "text": [
            "100%|██████████| 2/2 [00:00<00:00, 34.83it/s]\n"
          ]
        },
        {
          "output_type": "execute_result",
          "data": {
            "text/plain": [
              "-153.34439531632867"
            ]
          },
          "metadata": {},
          "execution_count": 58
        }
      ]
    },
    {
      "cell_type": "code",
      "source": [
        "hmm_model.get_log_likelihood(generated_song)"
      ],
      "metadata": {
        "colab": {
          "base_uri": "https://localhost:8080/"
        },
        "id": "9A0jg6aQpDrl",
        "outputId": "ba0eff7e-a440-442c-c2cf-28c589b33c93"
      },
      "execution_count": 59,
      "outputs": [
        {
          "output_type": "stream",
          "name": "stderr",
          "text": [
            "100%|██████████| 140/140 [00:03<00:00, 46.03it/s]\n"
          ]
        },
        {
          "output_type": "execute_result",
          "data": {
            "text/plain": [
              "-1516.6570431191467"
            ]
          },
          "metadata": {},
          "execution_count": 59
        }
      ]
    },
    {
      "cell_type": "code",
      "source": [
        "# let's use the following lyrics from Gotye's \"Somebody That I Used to Know\" to evaluate our model with different n values for words and sections\n",
        "eval_lyrics = ['now', 'and', 'then', ',', 'i', 'think', 'of', 'all', 'the', 'times', 'you', 'screwed', 'me', 'over']"
      ],
      "metadata": {
        "id": "5mD94CFuWCH8"
      },
      "execution_count": 62,
      "outputs": []
    },
    {
      "cell_type": "code",
      "source": [
        "import matplotlib.pyplot as plt\n",
        "import seaborn as sns\n",
        "\n",
        "section_n = [2, 3]\n",
        "word_n = [1, 2, 3, 4, 5, 6]\n",
        "\n",
        "log_likelihoods = np.zeros((len(section_n), len(word_n)))\n",
        "for i, s_n in enumerate(section_n):\n",
        "    for j, w_n in enumerate(word_n):\n",
        "        tmp_hmm = NGramHMM(states, tag=\"pop\", word_n=w_n, section_n=s_n, vocab_size=500)\n",
        "        tmp_hmm.fit(dataset)\n",
        "        log_likelihoods[i, j] = tmp_hmm.get_log_likelihood(eval_lyrics)\n",
        "        print(log_likelihoods[i, j])\n",
        "\n",
        "# plot log likelihoods for pop songs with vocab size 500\n",
        "plt.figure(figsize=(8, 6))\n",
        "sns.heatmap(log_likelihoods, annot=True, fmt=\".2f\", cmap=\"coolwarm\", xticklabels=section_n, yticklabels=word_n)\n",
        "plt.xlabel(\"section_n values\")\n",
        "plt.ylabel(\"word_n values\")\n",
        "plt.title(\"log likelihoods\")\n",
        "plt.show()"
      ],
      "metadata": {
        "colab": {
          "base_uri": "https://localhost:8080/",
          "height": 1000
        },
        "id": "q22fooXvWkJE",
        "outputId": "64cbc783-8e74-454b-e3fe-795c0315f78f"
      },
      "execution_count": 67,
      "outputs": [
        {
          "output_type": "stream",
          "name": "stderr",
          "text": [
            "100%|██████████| 6613/6613 [00:14<00:00, 448.29it/s]\n",
            "100%|██████████| 2708/2708 [00:04<00:00, 673.56it/s] \n",
            "100%|██████████| 13/13 [00:00<00:00, 257.02it/s]\n"
          ]
        },
        {
          "output_type": "stream",
          "name": "stdout",
          "text": [
            "-1214.8101334494513\n"
          ]
        },
        {
          "output_type": "stream",
          "name": "stderr",
          "text": [
            "100%|██████████| 6613/6613 [00:18<00:00, 355.97it/s]\n",
            "100%|██████████| 2708/2708 [00:03<00:00, 755.54it/s]\n",
            "100%|██████████| 13/13 [00:00<00:00, 500.02it/s]\n"
          ]
        },
        {
          "output_type": "stream",
          "name": "stdout",
          "text": [
            "-929.1234069494385\n"
          ]
        },
        {
          "output_type": "stream",
          "name": "stderr",
          "text": [
            "100%|██████████| 6613/6613 [00:14<00:00, 455.59it/s]\n",
            "100%|██████████| 2708/2708 [00:03<00:00, 775.97it/s]\n",
            "100%|██████████| 13/13 [00:00<00:00, 681.18it/s]\n"
          ]
        },
        {
          "output_type": "stream",
          "name": "stdout",
          "text": [
            "-864.1041348240647\n"
          ]
        },
        {
          "output_type": "stream",
          "name": "stderr",
          "text": [
            "100%|██████████| 6613/6613 [00:14<00:00, 457.63it/s]\n",
            "100%|██████████| 2708/2708 [00:03<00:00, 738.27it/s]\n",
            "100%|██████████| 13/13 [00:00<00:00, 858.69it/s]\n"
          ]
        },
        {
          "output_type": "stream",
          "name": "stdout",
          "text": [
            "-870.6459044409673\n"
          ]
        },
        {
          "output_type": "stream",
          "name": "stderr",
          "text": [
            "100%|██████████| 6613/6613 [00:15<00:00, 432.03it/s]\n",
            "100%|██████████| 2708/2708 [00:04<00:00, 584.35it/s]\n",
            "100%|██████████| 13/13 [00:00<00:00, 635.46it/s]\n"
          ]
        },
        {
          "output_type": "stream",
          "name": "stdout",
          "text": [
            "-874.2535138092715\n"
          ]
        },
        {
          "output_type": "stream",
          "name": "stderr",
          "text": [
            "100%|██████████| 6613/6613 [00:15<00:00, 435.09it/s]\n",
            "100%|██████████| 2708/2708 [00:05<00:00, 498.20it/s]\n",
            "100%|██████████| 13/13 [00:00<00:00, 416.52it/s]\n"
          ]
        },
        {
          "output_type": "stream",
          "name": "stdout",
          "text": [
            "-874.093928322118\n"
          ]
        },
        {
          "output_type": "stream",
          "name": "stderr",
          "text": [
            "100%|██████████| 6613/6613 [00:14<00:00, 460.49it/s]\n",
            "100%|██████████| 2708/2708 [00:02<00:00, 942.75it/s]\n",
            "100%|██████████| 13/13 [00:00<00:00, 55.20it/s]\n"
          ]
        },
        {
          "output_type": "stream",
          "name": "stdout",
          "text": [
            "-685.0216528744754\n"
          ]
        },
        {
          "output_type": "stream",
          "name": "stderr",
          "text": [
            "100%|██████████| 6613/6613 [00:14<00:00, 464.49it/s]\n",
            "100%|██████████| 2708/2708 [00:03<00:00, 834.20it/s]\n",
            "100%|██████████| 13/13 [00:00<00:00, 65.78it/s]\n"
          ]
        },
        {
          "output_type": "stream",
          "name": "stdout",
          "text": [
            "-383.09459515865206\n"
          ]
        },
        {
          "output_type": "stream",
          "name": "stderr",
          "text": [
            "100%|██████████| 6613/6613 [00:14<00:00, 466.51it/s]\n",
            "100%|██████████| 2708/2708 [00:04<00:00, 591.31it/s]\n",
            "100%|██████████| 13/13 [00:00<00:00, 69.00it/s]\n"
          ]
        },
        {
          "output_type": "stream",
          "name": "stdout",
          "text": [
            "-294.4309129405374\n"
          ]
        },
        {
          "output_type": "stream",
          "name": "stderr",
          "text": [
            "100%|██████████| 6613/6613 [00:13<00:00, 480.92it/s]\n",
            "100%|██████████| 2708/2708 [00:04<00:00, 621.05it/s]\n",
            "100%|██████████| 13/13 [00:00<00:00, 68.87it/s]\n"
          ]
        },
        {
          "output_type": "stream",
          "name": "stdout",
          "text": [
            "-298.6120511668213\n"
          ]
        },
        {
          "output_type": "stream",
          "name": "stderr",
          "text": [
            "100%|██████████| 6613/6613 [00:14<00:00, 455.19it/s]\n",
            "100%|██████████| 2708/2708 [00:05<00:00, 492.75it/s]\n",
            "100%|██████████| 13/13 [00:00<00:00, 68.27it/s]\n"
          ]
        },
        {
          "output_type": "stream",
          "name": "stdout",
          "text": [
            "-302.1222945772972\n"
          ]
        },
        {
          "output_type": "stream",
          "name": "stderr",
          "text": [
            "100%|██████████| 6613/6613 [00:13<00:00, 479.79it/s]\n",
            "100%|██████████| 2708/2708 [00:04<00:00, 570.90it/s]\n",
            "100%|██████████| 13/13 [00:00<00:00, 37.15it/s]\n"
          ]
        },
        {
          "output_type": "stream",
          "name": "stdout",
          "text": [
            "-301.9627090901439\n"
          ]
        },
        {
          "output_type": "display_data",
          "data": {
            "text/plain": [
              "<Figure size 800x600 with 2 Axes>"
            ],
            "image/png": "[encoded data removed]"
          },
          "metadata": {}
        }
      ]
    },
    {
      "cell_type": "code",
      "source": [
        "plt.figure(figsize=(8, 5))\n",
        "plt.plot(word_n, log_likelihoods[0], marker='o', linestyle='-', color='b')\n",
        "plt.xlabel(\"word n-gram (n)\")\n",
        "plt.ylabel(\"Log-Likelihood\")\n",
        "plt.title(\"word n-gram vs. Log_Likelihood for section n = 2\")"
      ],
      "metadata": {
        "colab": {
          "base_uri": "https://localhost:8080/",
          "height": 504
        },
        "id": "WDTO2E8fZmu2",
        "outputId": "0f15dbfe-c35e-4b09-9344-db3d3c7b8e1a"
      },
      "execution_count": 68,
      "outputs": [
        {
          "output_type": "execute_result",
          "data": {
            "text/plain": [
              "Text(0.5, 1.0, 'word n-gram vs. Log_Likelihood for section n = 2')"
            ]
          },
          "metadata": {},
          "execution_count": 68
        },
        {
          "output_type": "display_data",
          "data": {
            "text/plain": [
              "<Figure size 800x500 with 1 Axes>"
            ],
            "image/png": "[encoded data removed]"
          },
          "metadata": {}
        }
      ]
    },
    {
      "cell_type": "code",
      "source": [
        "plt.figure(figsize=(8, 5))\n",
        "plt.plot(word_n, log_likelihoods[1], marker='o', linestyle='-', color='b')\n",
        "plt.xlabel(\"word n-gram (n)\")\n",
        "plt.ylabel(\"Log-Likelihood\")\n",
        "plt.title(\"word n-gram vs. Log_Likelihood for section n = 3\")"
      ],
      "metadata": {
        "colab": {
          "base_uri": "https://localhost:8080/",
          "height": 504
        },
        "id": "1m4ys5w2amIN",
        "outputId": "30297193-404b-42a0-d5fd-97231b7a0ddd"
      },
      "execution_count": 69,
      "outputs": [
        {
          "output_type": "execute_result",
          "data": {
            "text/plain": [
              "Text(0.5, 1.0, 'word n-gram vs. Log_Likelihood for section n = 3')"
            ]
          },
          "metadata": {},
          "execution_count": 69
        },
        {
          "output_type": "display_data",
          "data": {
            "text/plain": [
              "<Figure size 800x500 with 1 Axes>"
            ],
            "image/png": "[encoded data removed]"
          },
          "metadata": {}
        }
      ]
    }
  ]
}